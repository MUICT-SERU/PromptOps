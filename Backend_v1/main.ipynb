{
 "cells": [
  {
   "cell_type": "code",
   "execution_count": 1,
   "metadata": {},
   "outputs": [
    {
     "name": "stdout",
     "output_type": "stream",
     "text": [
      "Chommakorn\n"
     ]
    },
    {
     "name": "stderr",
     "output_type": "stream",
     "text": [
      "[nltk_data] Downloading package averaged_perceptron_tagger to\n",
      "[nltk_data]     C:\\Users\\chomm\\AppData\\Roaming\\nltk_data...\n",
      "[nltk_data]   Package averaged_perceptron_tagger is already up-to-\n",
      "[nltk_data]       date!\n",
      "[nltk_data] Downloading package wordnet to\n",
      "[nltk_data]     C:\\Users\\chomm\\AppData\\Roaming\\nltk_data...\n",
      "[nltk_data]   Package wordnet is already up-to-date!\n",
      "[nltk_data] Downloading package punkt to\n",
      "[nltk_data]     C:\\Users\\chomm\\AppData\\Roaming\\nltk_data...\n",
      "[nltk_data]   Package punkt is already up-to-date!\n"
     ]
    },
    {
     "name": "stdout",
     "output_type": "stream",
     "text": [
      "WARNING:tensorflow:From c:\\Users\\chomm\\anaconda3\\Lib\\site-packages\\tf_keras\\src\\losses.py:2976: The name tf.losses.sparse_softmax_cross_entropy is deprecated. Please use tf.compat.v1.losses.sparse_softmax_cross_entropy instead.\n",
      "\n"
     ]
    }
   ],
   "source": [
    "from PromptOps.std_templates import ShotTemplateFormatter\n",
    "from PromptOps.test import PromptCompletion, Test\n",
    "from PromptOps.test_suite import TestSuite"
   ]
  },
  {
   "cell_type": "code",
   "execution_count": 2,
   "metadata": {},
   "outputs": [],
   "source": [
    "def process_and_save_csv(input_file, output_prefix):\n",
    "    # Initialize the formatter with the input file\n",
    "    formatter = ShotTemplateFormatter(input_file)\n",
    "\n",
    "    # List of perturbation types to apply\n",
    "    perturbation_types = ['robust', 'taxonomy', 'vocab']\n",
    "\n",
    "    # Process each perturbation type and save the output\n",
    "    for perturb_type in perturbation_types:\n",
    "        print(f\"Processing {perturb_type} perturbation...\")\n",
    "        formatted_data = formatter.format_all_rows(shot_type='one', perturb_type=perturb_type)\n",
    "        output_file = f\"{output_prefix}_{perturb_type}_output.csv\"\n",
    "        formatter.save_formatted_data_to_csv(formatted_data, output_file)\n",
    "        print(f\"Saved formatted data with {perturb_type} perturbation to {output_file}\")"
   ]
  },
  {
   "cell_type": "code",
   "execution_count": 3,
   "metadata": {},
   "outputs": [],
   "source": [
    "import pandas as pd\n",
    "def read_and_display_csv(file_names):\n",
    "    for file_name in file_names:\n",
    "        print(f\"Reading file: {file_name}\")\n",
    "        # Read the CSV into a DataFrame\n",
    "        df = pd.read_csv(file_name)\n",
    "        # Display the DataFrame\n",
    "        print(df.head())  # Show the first 5 rows\n",
    "        print(\"\\n\")"
   ]
  },
  {
   "cell_type": "code",
   "execution_count": null,
   "metadata": {},
   "outputs": [],
   "source": [
    "# Initialize the PromptCompletion model for Llama\n",
    "llama_url = \"http://127.0.0.1:8000/v1/chat/completions\"  # Replace with your Llama model URL\n",
    "completion = PromptCompletion(\n",
    "    model_provider=\"llama\",\n",
    "    model=\"llama-13b\",\n",
    "    system_content=\"You are an assistant that answer the question\",\n",
    "    temperature=0.5,\n",
    "    top_p=0.9,\n",
    "    max_tokens=150,\n",
    "    llama_url=llama_url\n",
    ")"
   ]
  },
  {
   "cell_type": "code",
   "execution_count": null,
   "metadata": {},
   "outputs": [],
   "source": [
    "# completion = PromptCompletion(\n",
    "#     model_provider=\"openai\",  # Can be \"openai\", \"claude\", or \"gemini\"\n",
    "#     model=\"gpt-3.5-turbo\",  # Specify the OpenAI model\n",
    "#     api_key=\"OpenAI-API-Key\"  \n",
    "# )"
   ]
  },
  {
   "cell_type": "code",
   "execution_count": null,
   "metadata": {},
   "outputs": [],
   "source": [
    "# completion = PromptCompletion(\n",
    "#     model_provider=\"claude\",\n",
    "#     model=\"claude-2.1\",  # Make sure to use a valid Claude model name\n",
    "#     api_key=\"Claude-API-Key\"\n",
    "# )\n",
    "\n",
    "# # # Generate a batch of completions\n",
    "# batch_response = completion.generate_completion(\n",
    "#     prompt=\"Tell me a short fun fact about video games!\",\n",
    "#     batch=True  # Enable batch processing\n",
    "# )\n",
    "# print(batch_response)"
   ]
  },
  {
   "cell_type": "code",
   "execution_count": null,
   "metadata": {},
   "outputs": [],
   "source": [
    "# # Using Gemini model for a single prompt\n",
    "# completion = PromptCompletion(\n",
    "#     model_provider=\"gemini\",\n",
    "#     model=\"gemini-1.5-pro\",  # Specify the Gemini model\n",
    "#     api_key=\"Gemini-API-Key\"\n",
    "# )\n",
    "\n",
    "# # Generate a completion for a single prompt\n",
    "# response = completion.generate_completion(prompt=\"Tell me a short fun fact about space exploration!\")\n",
    "# print(response)\n",
    "\n",
    "\n",
    "# # Create an instance for Gemini (Google Cloud)\n",
    "# completion = PromptCompletion(model_provider=\"gemini\", api_key=\"your_google_cloud_api_key\")\n",
    "# response = completion.generate_completion(\"What is the capital of France?\")\n",
    "# print(response)"
   ]
  },
  {
   "cell_type": "code",
   "execution_count": 5,
   "metadata": {},
   "outputs": [
    {
     "name": "stdout",
     "output_type": "stream",
     "text": [
      "Processing robust perturbation...\n",
      "Saved formatted data with robust perturbation to formatted_robust_output.csv\n",
      "Processing taxonomy perturbation...\n",
      "Saved formatted data with taxonomy perturbation to formatted_taxonomy_output.csv\n",
      "Processing vocab perturbation...\n",
      "Saved formatted data with vocab perturbation to formatted_vocab_output.csv\n"
     ]
    }
   ],
   "source": [
    "input_csv = \"one_shot_example.csv\"\n",
    "output_prefix = \"formatted\"\n",
    "process_and_save_csv(input_csv, output_prefix)"
   ]
  },
  {
   "cell_type": "code",
   "execution_count": 6,
   "metadata": {},
   "outputs": [
    {
     "name": "stdout",
     "output_type": "stream",
     "text": [
      "Reading file: formatted_robust_output.csv\n",
      "                                     original_prompt  \\\n",
      "0  Q: Is growing seedless cucumber good for a gar...   \n",
      "1  Q: Can solar panels generate electricity on cl...   \n",
      "2  Q: Can regular exercise improve mental health?...   \n",
      "\n",
      "                                      perturb_prompt perturb_type  \\\n",
      "0  Q: Is growing seedless cucumber good for a gar...       robust   \n",
      "1  Q: Can solar panels generate electricity on cl...       robust   \n",
      "2  Q: Can regular exercise improve mental health?...       robust   \n",
      "\n",
      "  expected_result  \n",
      "0             Yes  \n",
      "1             Yes  \n",
      "2             Yes  \n",
      "\n",
      "\n",
      "Reading file: formatted_taxonomy_output.csv\n",
      "                                     original_prompt  \\\n",
      "0  Q: Is growing seedless cucumber good for a gar...   \n",
      "1  Q: Can solar panels generate electricity on cl...   \n",
      "2  Q: Can regular exercise improve mental health?...   \n",
      "\n",
      "                                      perturb_prompt perturb_type  \\\n",
      "0  Q: Is growing seedless cucumber good for a gar...     taxonomy   \n",
      "1  Q: Can solar panels generate electricity on cl...     taxonomy   \n",
      "2  Q: Can regular exercise improve mental health?...     taxonomy   \n",
      "\n",
      "  expected_result  \n",
      "0             Yes  \n",
      "1             Yes  \n",
      "2             Yes  \n",
      "\n",
      "\n",
      "Reading file: formatted_vocab_output.csv\n",
      "                                     original_prompt  \\\n",
      "0  Q: Is growing seedless cucumber good for a gar...   \n",
      "1  Q: Can solar panels generate electricity on cl...   \n",
      "2  Q: Can regular exercise improve mental health?...   \n",
      "\n",
      "                                      perturb_prompt perturb_type  \\\n",
      "0  Q: Is growing seedless cucumber good for a gar...        vocab   \n",
      "1  Q: Can solar panels generate electricity on cl...        vocab   \n",
      "2  Q: Can regular exercise improve mental health?...        vocab   \n",
      "\n",
      "  expected_result  \n",
      "0             Yes  \n",
      "1             Yes  \n",
      "2             Yes  \n",
      "\n",
      "\n"
     ]
    }
   ],
   "source": [
    "csv_files = [\n",
    "        \"formatted_robust_output.csv\",\n",
    "        \"formatted_taxonomy_output.csv\",\n",
    "        \"formatted_vocab_output.csv\"\n",
    "    ]\n",
    "\n",
    "read_and_display_csv(csv_files)"
   ]
  },
  {
   "cell_type": "code",
   "execution_count": 8,
   "metadata": {},
   "outputs": [
    {
     "name": "stdout",
     "output_type": "stream",
     "text": [
      "Processing file: formatted_robust_output.csv with perturbation: Robustness\n",
      "Processing file: formatted_taxonomy_output.csv with perturbation: Taxonomy\n",
      "Processing file: formatted_vocab_output.csv with perturbation: Vocabulary\n"
     ]
    }
   ],
   "source": [
    "# Initialize the test suite\n",
    "test_suite = TestSuite()\n",
    "\n",
    "# List of CSV files and their perturbation types\n",
    "csv_files = [\n",
    "    (\"Robustness\", \"formatted_robust_output.csv\"),\n",
    "    (\"Taxonomy\", \"formatted_taxonomy_output.csv\"),\n",
    "    (\"Vocabulary\", \"formatted_vocab_output.csv\")\n",
    "]\n",
    "\n",
    "# Read each CSV and create tests\n",
    "for perturb_type, file_path in csv_files:\n",
    "    print(f\"Processing file: {file_path} with perturbation: {perturb_type}\")\n",
    "    \n",
    "    # Load the CSV into a DataFrame\n",
    "    df = pd.read_csv(file_path)\n",
    "    \n",
    "    # Iterate over each row to create a test\n",
    "    for index, row in df.iterrows():\n",
    "        test = Test(\n",
    "            name=f\"Test {perturb_type} #{index + 1}\",\n",
    "            prompt=row[\"original_prompt\"],  # Original prompt\n",
    "            expected_result=row[\"expected_result\"],  # Expected result\n",
    "            description=f\"A test with {perturb_type} perturbation\",\n",
    "            perturb_method=perturb_type,  # Perturbation type\n",
    "            perturb_text=row[\"perturb_prompt\"],  # Perturbed prompt\n",
    "        )\n",
    "        test_suite.add_test(test)\n"
   ]
  },
  {
   "cell_type": "code",
   "execution_count": null,
   "metadata": {},
   "outputs": [
    {
     "name": "stdout",
     "output_type": "stream",
     "text": [
      "Running all tests...\n",
      "Summary: {'total_tests': 9, 'failures': 9, 'fail_rate': 100.0}\n"
     ]
    }
   ],
   "source": [
    "# Run all tests\n",
    "print(\"Running all tests...\")\n",
    "test_suite.run_all(completion)\n",
    "\n",
    "# Summarize the results\n",
    "results, summary = test_suite.summarize()\n",
    "print(\"Summary:\", summary)\n",
    "\n",
    "# Export results\n",
    "# Move the file result to result folder\n",
    "test_suite.export_results(\"test_results.csv\", file_format=\"csv\", overwrite=True)\n",
    "test_suite.export_results(\"test_results.xlsx\", file_format=\"xlsx\", overwrite=True)\n",
    "test_suite.export_results(\"test_results.json\", file_format=\"json\", overwrite=True)\n",
    "\n",
    "# The total result failed because we did not provide instruction and context in a certain way through this test."
   ]
  },
  {
   "cell_type": "code",
   "execution_count": null,
   "metadata": {},
   "outputs": [],
   "source": []
  }
 ],
 "metadata": {
  "kernelspec": {
   "display_name": "base",
   "language": "python",
   "name": "python3"
  },
  "language_info": {
   "codemirror_mode": {
    "name": "ipython",
    "version": 3
   },
   "file_extension": ".py",
   "mimetype": "text/x-python",
   "name": "python",
   "nbconvert_exporter": "python",
   "pygments_lexer": "ipython3",
   "version": "3.11.7"
  }
 },
 "nbformat": 4,
 "nbformat_minor": 2
}
