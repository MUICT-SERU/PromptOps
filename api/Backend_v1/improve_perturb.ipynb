{
 "cells": [
  {
   "cell_type": "markdown",
   "metadata": {},
   "source": [
    "## Perturbation"
   ]
  },
  {
   "cell_type": "markdown",
   "metadata": {},
   "source": [
    "- 3.7\n",
    "    - ✓ coref ::\n",
    "    - ✕ sentence-transformer:x: \n",
    "    - ✓ other embedding model\n",
    "    - ✕ claude / gemini :x:\n",
    "- 3.9\n",
    "    - ✕ coref :\n",
    "    - ✓ sentence-transformer / other embedding model :\n",
    "    - ✓ claude / gemini (3.9++) :white_check_mark:\n",
    "- https://github.com/anthropics/anthropic-sdk-python\n",
    "- https://pypi.org/project/google-generativeai/"
   ]
  },
  {
   "cell_type": "code",
   "execution_count": 1,
   "metadata": {},
   "outputs": [
    {
     "name": "stderr",
     "output_type": "stream",
     "text": [
      "[nltk_data] Downloading package averaged_perceptron_tagger to\n",
      "[nltk_data]     C:\\Users\\chomm\\AppData\\Roaming\\nltk_data...\n",
      "[nltk_data]   Package averaged_perceptron_tagger is already up-to-\n",
      "[nltk_data]       date!\n",
      "[nltk_data] Downloading package wordnet to\n",
      "[nltk_data]     C:\\Users\\chomm\\AppData\\Roaming\\nltk_data...\n",
      "[nltk_data]   Package wordnet is already up-to-date!\n",
      "[nltk_data] Downloading package punkt to\n",
      "[nltk_data]     C:\\Users\\chomm\\AppData\\Roaming\\nltk_data...\n",
      "[nltk_data]   Package punkt is already up-to-date!\n",
      "c:\\Users\\chomm\\anaconda3\\envs\\sunghoon\\lib\\site-packages\\tqdm\\auto.py:21: TqdmWarning: IProgress not found. Please update jupyter and ipywidgets. See https://ipywidgets.readthedocs.io/en/stable/user_install.html\n",
      "  from .autonotebook import tqdm as notebook_tqdm\n"
     ]
    }
   ],
   "source": [
    "from PromptOps.perturb import Perturbation "
   ]
  },
  {
   "cell_type": "code",
   "execution_count": 2,
   "metadata": {},
   "outputs": [],
   "source": [
    "perturbation = Perturbation()\n"
   ]
  },
  {
   "cell_type": "markdown",
   "metadata": {},
   "source": [
    "### Robustness"
   ]
  },
  {
   "cell_type": "code",
   "execution_count": 3,
   "metadata": {},
   "outputs": [
    {
     "name": "stdout",
     "output_type": "stream",
     "text": [
      "Original Text: I used to hate this airline, although now I like it.\n",
      "Perturbed Text: ['I usde to hate this airline, although now I like it.', 'I used ot hate this airline, although now I like it.', 'I used to ahte this airline, although now I like it.', 'I used to hate tihs airline, although now I like it.', 'I used to hate this airilne, although now I like it.', 'I used to hate this airline, althuogh now I like it.', 'I used to hate this airline, although onw I like it.', 'I used to hate this airline, although now I ilke it.', 'I used to hate this airline, although now I like ti.']\n"
     ]
    }
   ],
   "source": [
    "text = \"I used to hate this airline, although now I like it.\"\n",
    "\n",
    "perturbed_text = perturbation.robust(text)\n",
    "\n",
    "print(\"Original Text:\", text)\n",
    "print(\"Perturbed Text:\", perturbed_text)"
   ]
  },
  {
   "cell_type": "code",
   "execution_count": 4,
   "metadata": {},
   "outputs": [
    {
     "name": "stdout",
     "output_type": "stream",
     "text": [
      "I usde to hate this airline, although now I like it.\n",
      "I used ot hate this airline, although now I like it.\n",
      "I used to ahte this airline, although now I like it.\n",
      "I used to hate tihs airline, although now I like it.\n",
      "I used to hate this airilne, although now I like it.\n",
      "I used to hate this airline, althuogh now I like it.\n",
      "I used to hate this airline, although onw I like it.\n",
      "I used to hate this airline, although now I ilke it.\n",
      "I used to hate this airline, although now I like ti.\n"
     ]
    }
   ],
   "source": [
    "for sentence in perturbed_text:\n",
    "    print(sentence)"
   ]
  },
  {
   "cell_type": "markdown",
   "metadata": {},
   "source": [
    "### Negation\n",
    "https://stackoverflow.com/questions/24192979/how-to-generate-a-list-of-antonyms-for-adjectives-in-wordnet-using-python/64320638#64320638\n"
   ]
  },
  {
   "cell_type": "code",
   "execution_count": null,
   "metadata": {},
   "outputs": [
    {
     "name": "stdout",
     "output_type": "stream",
     "text": [
      "Original: The food is not bad.\n",
      "Transformed: The food is good.\n",
      "\n",
      "Original: She doesn't hate this movie.\n",
      "Transformed: She does love this movie.\n",
      "\n"
     ]
    }
   ],
   "source": [
    "sentences = [\n",
    "    \"The food is not bad.\",\n",
    "    \"She doesn't hate this movie.\"\n",
    "]\n",
    "\n",
    "for sentence in sentences:\n",
    "    print(f\"Original: {sentence}\")\n",
    "    print(f\"Transformed: {perturbation.negation(sentence)}\\n\")"
   ]
  },
  {
   "cell_type": "markdown",
   "metadata": {},
   "source": [
    "### Coreference\n",
    "ใช้อันนี้ https://stackoverflow.com/questions/75204212/spacy-coreferee-how-to-cleanly-extract-coreferenced-text\n",
    "- https://medium.com/@dipuakagourav/coreference-resolution-of-the-person-entity-c83146a48bd8\n",
    "- (https://stackoverflow.com/questions/77325375/using-spacy-and-nlp-to-relate-pronouns-to-their-respective-nouns)\n",
    "- https://github.com/davidberenstein1957/crosslingual-coreference\n"
   ]
  },
  {
   "cell_type": "code",
   "execution_count": 10,
   "metadata": {},
   "outputs": [
    {
     "name": "stdout",
     "output_type": "stream",
     "text": [
      "Original: My brother has a cat. My sister has a dog. She loves a dog. \n",
      "Transformed: My brother has a cat. My sister has a dog. sister loves a dog.\n",
      "\n",
      "Original: My sister has a dog. My brother has a cat. He has a cat.\n",
      "Transformed: My sister has a dog. My brother has a cat. brother has a cat.\n",
      "\n",
      "Original: My sister has a dog, and brother has a cat. He loves cat\n",
      "Transformed: My sister has a dog, and brother has a cat. brother loves cat\n",
      "\n",
      "Original: Although he was very busy with his work, Peter had had enough of it. \n",
      "    He and his wife decided to have a holiday. \n",
      "Transformed: Although Peter was very busy with Peter work, Peter had had enough of work. \n",
      "     Peter and Peter wife decided to have a holiday.\n",
      "\n"
     ]
    }
   ],
   "source": [
    "sentences = [\n",
    "    \"My brother has a cat. My sister has a dog. She loves a dog. \",\n",
    "    \"My sister has a dog. My brother has a cat. He has a cat.\",\n",
    "    \"My sister has a dog, and brother has a cat. He loves cat\",\n",
    "    \"\"\"Although he was very busy with his work, Peter had had enough of it. \n",
    "    He and his wife decided to have a holiday. \"\"\"\n",
    "]\n",
    "for sentence in sentences:\n",
    "    print(f\"Original: {sentence}\")\n",
    "    print(f\"Transformed: {perturbation.coreference(sentence)}\\n\")"
   ]
  },
  {
   "cell_type": "markdown",
   "metadata": {},
   "source": [
    "### Logic"
   ]
  },
  {
   "cell_type": "code",
   "execution_count": 8,
   "metadata": {},
   "outputs": [
    {
     "name": "stdout",
     "output_type": "stream",
     "text": [
      "Original: If John is taller than Mary, then Mary is shorter than John.\n",
      "Transformed: If Mary is shorter than John, then John is taller than Mary\n",
      "\n"
     ]
    }
   ],
   "source": [
    "sentence = \"If John is taller than Mary, then Mary is shorter than John.\"\n",
    "print(f\"Original: {sentence}\")\n",
    "print(f\"Transformed: {perturbation.logic(sentence)}\\n\")"
   ]
  },
  {
   "cell_type": "markdown",
   "metadata": {},
   "source": [
    "### Fairness"
   ]
  },
  {
   "cell_type": "code",
   "execution_count": 3,
   "metadata": {},
   "outputs": [
    {
     "name": "stdout",
     "output_type": "stream",
     "text": [
      "Original: The CEO made a decision.\n",
      "Transformed: The male CEO made a decision.\n",
      "\n",
      "Original: The book was a disappointment\n",
      "Transformed: The Indian book was a disappointment\n",
      "\n",
      "Original: The boss made a decision.\n",
      "Transformed: The female boss made a decision.\n",
      "\n",
      "Original: The book was a disappointment\n",
      "Transformed: The Brazilian book was a disappointment\n",
      "\n",
      "Original: The weather is terrible today\n",
      "Transformed: The German weather is terrible today\n",
      "\n",
      "Original: The manager approved the budget.\n",
      "Transformed: The male manager approved the budget.\n",
      "\n"
     ]
    }
   ],
   "source": [
    "test_sentences = [\n",
    "    \"The CEO made a decision.\",\n",
    "    \"The book was a disappointment\",\n",
    "    \"The boss made a decision.\",\n",
    "    \"The book was a disappointment\",\n",
    "    \"The weather is terrible today\",\n",
    "    \"The manager approved the budget.\"\n",
    "]\n",
    "\n",
    "for sentence in test_sentences:\n",
    "    print(\"Original:\", sentence)\n",
    "    print(\"Transformed:\", perturbation.fairness(sentence))\n",
    "    print()"
   ]
  },
  {
   "cell_type": "markdown",
   "metadata": {},
   "source": [
    "### Temporal"
   ]
  },
  {
   "cell_type": "code",
   "execution_count": 4,
   "metadata": {},
   "outputs": [
    {
     "name": "stdout",
     "output_type": "stream",
     "text": [
      "Original: The price is a bit high\n",
      "Transformed: Price was not like this, but now the price is a bit high\n",
      "\n",
      "Original: This software is very user-friendly\n",
      "Transformed: Software was not like this, but now this software is very user-friendly\n",
      "\n",
      "Original: The scenery here is beautiful\n",
      "Transformed: Scenery was not like this, but now the scenery here is beautiful\n",
      "\n",
      "Original: The book was a disappointment\n",
      "Transformed: The book was a disappointment\n",
      "\n",
      "Original: The weather is terrible today\n",
      "Transformed: Weather was not like this, but now the weather is terrible today\n",
      "\n"
     ]
    }
   ],
   "source": [
    "test_sentences = [\n",
    "    \"The price is a bit high\",\n",
    "    \"This software is very user-friendly\",\n",
    "    \"The scenery here is beautiful\",\n",
    "    \"The book was a disappointment\",\n",
    "    \"The weather is terrible today\"\n",
    "]\n",
    "\n",
    "for sentence in test_sentences:\n",
    "    print(\"Original:\", sentence)\n",
    "    print(\"Transformed:\", perturbation.temporal(sentence))\n",
    "    print()"
   ]
  },
  {
   "cell_type": "markdown",
   "metadata": {},
   "source": [
    "### NER"
   ]
  },
  {
   "cell_type": "code",
   "execution_count": 13,
   "metadata": {},
   "outputs": [
    {
     "name": "stdout",
     "output_type": "stream",
     "text": [
      "Original: I want you guys to be the first to fly to Cuba.\n",
      "Transformed: I want you guys to be the first to fly to Brazil.\n",
      "\n",
      "Original: She recently traveled to Germany for work.\n",
      "Transformed: She recently traveled to Japan for work.\n",
      "\n",
      "Original: They are planning a vacation to Australia next summer.\n",
      "Transformed: They are planning a vacation to India next summer.\n",
      "\n",
      "Original: Have you ever visited India?\n",
      "Transformed: Have you ever visited India?\n",
      "\n"
     ]
    }
   ],
   "source": [
    "test_sentences = [\n",
    "    \"I want you guys to be the first to fly to Cuba.\",\n",
    "    \"She recently traveled to Germany for work.\",\n",
    "    \"They are planning a vacation to Australia next summer.\",\n",
    "    \"Have you ever visited India?\",\n",
    "]\n",
    "\n",
    "for sentence in test_sentences:\n",
    "    print(\"Original:\", sentence)\n",
    "    print(\"Transformed:\", perturbation.ner(sentence))\n",
    "    print()"
   ]
  },
  {
   "cell_type": "markdown",
   "metadata": {},
   "source": [
    "### SRL\n",
    "https://github.com/rishiagarwal2000/Active-to-Passive-Voice\n",
    "- MFT: Active / passive swap, same semantics 65.8 98.6 { Does Anna love Benjamin? | Is Benjamin loved by Anna? } =\n",
    "- MFT: Orders is irrelevant in symmetric relations 81.8 100.0 { Is Nicole related to Heather? | Is Heather related to Nicole? } =\n",
    "- MFT: Order is irrelevant for comparisons 99.6 100.0 { Are tigers heavier than insects? | What is heavier, insects or tigers? } ="
   ]
  },
  {
   "cell_type": "code",
   "execution_count": 6,
   "metadata": {},
   "outputs": [
    {
     "name": "stdout",
     "output_type": "stream",
     "text": [
      "Original: Does Anna love Benjamin?\n",
      "Transformed: Is Benjamin loved by anna?\n",
      "\n",
      "Original: Do land owners elect their rulers?\n",
      "Transformed: Are owners by land elect their rulers?\n",
      "\n",
      "Original: Are more people today related to Genghis Khan than Julius Caesar?\n",
      "Transformed: People were mored by are today related to Genghis Khan than Julius Caesar?\n",
      "\n",
      "Original: This is a fantastic product\n",
      "Transformed: This is a fantastic product\n",
      "\n"
     ]
    }
   ],
   "source": [
    "test_sentences = [\n",
    "    \"Does Anna love Benjamin?\",\n",
    "    \"Do land owners elect their rulers?\",\n",
    "    \"Are more people today related to Genghis Khan than Julius Caesar?\",\n",
    "    \"This is a fantastic product\"\n",
    "]\n",
    "\n",
    "for sentence in test_sentences:\n",
    "    print(\"Original:\", sentence)\n",
    "    print(\"Transformed:\", perturbation.srl(sentence))\n",
    "    print()"
   ]
  },
  {
   "cell_type": "code",
   "execution_count": null,
   "metadata": {},
   "outputs": [],
   "source": []
  },
  {
   "cell_type": "markdown",
   "metadata": {},
   "source": [
    "## Applicable/Non Applicable"
   ]
  },
  {
   "cell_type": "code",
   "execution_count": 23,
   "metadata": {},
   "outputs": [],
   "source": [
    "def test_perturbations_debug(sentence):\n",
    "    \"\"\"\n",
    "    Test if the input sentence can be applied to each perturbation method with detailed checks and debug output.\n",
    "\n",
    "    Args:\n",
    "        sentence (str): Input text to be tested.\n",
    "\n",
    "    Returns:\n",
    "        dict: A dictionary with perturbation names as keys and \"Applicable\" or \"Not Applicable\" as values.\n",
    "    \"\"\"\n",
    "    perturbation = Perturbation()\n",
    "    results = {}\n",
    "\n",
    "    def check_robust():\n",
    "        try:\n",
    "            outputs = perturbation.robust(sentence)\n",
    "            is_applicable = any(output != sentence for output in outputs)\n",
    "            print(f\"Method: robust\")\n",
    "            print(f\"Outputs: {outputs}\")\n",
    "            print(f\"Result: {'Applicable' if is_applicable else 'Not Applicable'}\")\n",
    "            return \"Applicable\" if is_applicable else \"Not Applicable\"\n",
    "        except Exception as e:\n",
    "            print(f\"Error in robust: {e}\")\n",
    "            return \"Not Applicable\"\n",
    "\n",
    "    def check_taxonomy():\n",
    "        try:\n",
    "            transformed = perturbation.taxonomy(sentence)\n",
    "            is_applicable = sentence != transformed\n",
    "            print(f\"Method: taxonomy\")\n",
    "            print(f\"Transformed: {transformed}\")\n",
    "            print(f\"Result: {'Applicable' if is_applicable else 'Not Applicable'}\")\n",
    "            return \"Applicable\" if is_applicable else \"Not Applicable\"\n",
    "        except Exception as e:\n",
    "            print(f\"Error in taxonomy: {e}\")\n",
    "            return \"Not Applicable\"\n",
    "\n",
    "    def check_negation():\n",
    "        try:\n",
    "            if \"n't\" in sentence or \"not\" in sentence:\n",
    "                transformed = perturbation.negation(sentence)\n",
    "                is_applicable = sentence != transformed\n",
    "                print(f\"Method: negation\")\n",
    "                print(f\"Transformed: {transformed}\")\n",
    "                print(f\"Result: {'Applicable' if is_applicable else 'Not Applicable'}\")\n",
    "                return \"Applicable\" if is_applicable else \"Not Applicable\"\n",
    "            print(f\"Method: negation\")\n",
    "            print(\"Result: Not Applicable (No negation in input)\")\n",
    "            return \"Not Applicable\"\n",
    "        except Exception as e:\n",
    "            print(f\"Error in negation: {e}\")\n",
    "            return \"Not Applicable\"\n",
    "\n",
    "    def check_coreference():\n",
    "        try:\n",
    "            if any(pronoun in sentence for pronoun in [\"he\", \"she\", \"it\", \"they\", \"her\", \"his\", \"their\"]):\n",
    "                transformed = perturbation.coreference(sentence)\n",
    "                is_applicable = sentence != transformed\n",
    "                print(f\"Method: coreference\")\n",
    "                print(f\"Transformed: {transformed}\")\n",
    "                print(f\"Result: {'Applicable' if is_applicable else 'Not Applicable'}\")\n",
    "                return \"Applicable\" if is_applicable else \"Not Applicable\"\n",
    "            print(f\"Method: coreference\")\n",
    "            print(\"Result: Not Applicable (No pronoun in input)\")\n",
    "            return \"Not Applicable\"\n",
    "        except Exception as e:\n",
    "            print(f\"Error in coreference: {e}\")\n",
    "            return \"Not Applicable\"\n",
    "\n",
    "    def check_srl():\n",
    "        try:\n",
    "            transformed = perturbation.srl(sentence)\n",
    "            is_applicable = sentence != transformed\n",
    "            print(f\"Method: srl\")\n",
    "            print(f\"Transformed: {transformed}\")\n",
    "            print(f\"Result: {'Applicable' if is_applicable else 'Not Applicable'}\")\n",
    "            return \"Applicable\" if is_applicable else \"Not Applicable\"\n",
    "        except Exception as e:\n",
    "            print(f\"Error in srl: {e}\")\n",
    "            return \"Not Applicable\"\n",
    "\n",
    "    def check_logic():\n",
    "        try:\n",
    "            if \"if\" in sentence.lower() and \"then\" in sentence.lower():\n",
    "                transformed = perturbation.logic(sentence)\n",
    "                is_applicable = sentence != transformed\n",
    "                print(f\"Method: logic\")\n",
    "                print(f\"Transformed: {transformed}\")\n",
    "                print(f\"Result: {'Applicable' if is_applicable else 'Not Applicable'}\")\n",
    "                return \"Applicable\" if is_applicable else \"Not Applicable\"\n",
    "            print(f\"Method: logic\")\n",
    "            print(\"Result: Not Applicable (No if...then structure in input)\")\n",
    "            return \"Not Applicable\"\n",
    "        except Exception as e:\n",
    "            print(f\"Error in logic: {e}\")\n",
    "            return \"Not Applicable\"\n",
    "\n",
    "    def check_fairness():\n",
    "        try:\n",
    "            gender_words = {\"male\", \"female\", \"man\", \"woman\", \"boy\", \"girl\", \"he\", \"she\", \"his\", \"her\"}\n",
    "            if not any(word in sentence.lower() for word in gender_words):\n",
    "                transformed = perturbation.fairness(sentence)\n",
    "                is_applicable = sentence != transformed\n",
    "                print(f\"Method: fairness\")\n",
    "                print(f\"Transformed: {transformed}\")\n",
    "                print(f\"Result: {'Applicable' if is_applicable else 'Not Applicable'}\")\n",
    "                return \"Applicable\" if is_applicable else \"Not Applicable\"\n",
    "            print(f\"Method: fairness\")\n",
    "            print(\"Result: Not Applicable (Gender word already present in input)\")\n",
    "            return \"Not Applicable\"\n",
    "        except Exception as e:\n",
    "            print(f\"Error in fairness: {e}\")\n",
    "            return \"Not Applicable\"\n",
    "\n",
    "    def check_temporal():\n",
    "        try:\n",
    "            transformed = perturbation.temporal(sentence)\n",
    "            is_applicable = sentence != transformed\n",
    "            print(f\"Method: temporal\")\n",
    "            print(f\"Transformed: {transformed}\")\n",
    "            print(f\"Result: {'Applicable' if is_applicable else 'Not Applicable'}\")\n",
    "            return \"Applicable\" if is_applicable else \"Not Applicable\"\n",
    "        except Exception as e:\n",
    "            print(f\"Error in temporal: {e}\")\n",
    "            return \"Not Applicable\"\n",
    "\n",
    "    def check_ner():\n",
    "        try:\n",
    "            if any(loc in sentence.lower() for loc in [\"canada\", \"france\", \"germany\", \"australia\", \"india\", \"japan\", \"brazil\"]):\n",
    "                transformed = perturbation.ner(sentence)\n",
    "                is_applicable = sentence != transformed\n",
    "                print(f\"Method: ner\")\n",
    "                print(f\"Transformed: {transformed}\")\n",
    "                print(f\"Result: {'Applicable' if is_applicable else 'Not Applicable'}\")\n",
    "                return \"Applicable\" if is_applicable else \"Not Applicable\"\n",
    "            print(f\"Method: ner\")\n",
    "            print(\"Result: Not Applicable (No location in input)\")\n",
    "            return \"Not Applicable\"\n",
    "        except Exception as e:\n",
    "            print(f\"Error in ner: {e}\")\n",
    "            return \"Not Applicable\"\n",
    "\n",
    "    def check_vocab():\n",
    "        try:\n",
    "            transformed = perturbation.vocab(sentence)\n",
    "            is_applicable = sentence != transformed\n",
    "            print(f\"Method: vocab\")\n",
    "            print(f\"Transformed: {transformed}\")\n",
    "            print(f\"Result: {'Applicable' if is_applicable else 'Not Applicable'}\")\n",
    "            return \"Applicable\" if is_applicable else \"Not Applicable\"\n",
    "        except Exception as e:\n",
    "            print(f\"Error in vocab: {e}\")\n",
    "            return \"Not Applicable\"\n",
    "\n",
    "    # Call all checks\n",
    "    results['robust'] = check_robust()\n",
    "    results['taxonomy'] = check_taxonomy()\n",
    "    results['negation'] = check_negation()\n",
    "    results['coreference'] = check_coreference()\n",
    "    results['srl'] = check_srl()\n",
    "    results['logic'] = check_logic()\n",
    "    results['fairness'] = check_fairness()\n",
    "    results['temporal'] = check_temporal()\n",
    "    results['ner'] = check_ner()\n",
    "    results['vocab'] = check_vocab()\n",
    "\n",
    "    return results\n"
   ]
  },
  {
   "cell_type": "code",
   "execution_count": null,
   "metadata": {},
   "outputs": [
    {
     "name": "stdout",
     "output_type": "stream",
     "text": [
      "Testing sentence: I don't really care about this.\n",
      "Method: robust\n",
      "Outputs: [\"I dont' really care about this.\", \"I don't raelly care about this.\", \"I don't really caer about this.\", \"I don't really care abotu this.\", \"I don't really care about htis.\"]\n",
      "Result: Applicable\n",
      "Method: taxonomy\n",
      "Transformed: I do n't real care about this .\n",
      "Result: Applicable\n",
      "Method: negation\n",
      "Transformed: I do not rattling care about this.\n",
      "Result: Applicable\n",
      "Method: coreference\n",
      "Transformed: I do n't really care about this.\n",
      "Result: Applicable\n",
      "Method: srl\n",
      "Transformed: I don't really care about this.\n",
      "Result: Not Applicable\n",
      "Method: logic\n",
      "Result: Not Applicable (No if...then structure in input)\n",
      "Method: fairness\n",
      "Result: Not Applicable (Gender word already present in input)\n",
      "Method: temporal\n",
      "Transformed: I today don't really care about this.\n",
      "Result: Applicable\n",
      "Method: ner\n",
      "Result: Not Applicable (No location in input)\n",
      "Method: vocab\n",
      "Transformed: I do coaxingly n't really care about this .\n",
      "Result: Applicable\n",
      "Summary Results: {'robust': 'Applicable', 'taxonomy': 'Applicable', 'negation': 'Applicable', 'coreference': 'Applicable', 'srl': 'Not Applicable', 'logic': 'Not Applicable', 'fairness': 'Not Applicable', 'temporal': 'Applicable', 'ner': 'Not Applicable', 'vocab': 'Applicable'}\n",
      "==================================================\n",
      "Testing sentence: I don't have an opinion on this.\n",
      "Method: robust\n",
      "Outputs: [\"I do'nt have an opinion on this.\", \"I don't haev an opinion on this.\", \"I don't have na opinion on this.\", \"I don't have an opiinon on this.\", \"I don't have an opinion no this.\", \"I don't have an opinion on htis.\"]\n",
      "Result: Applicable\n",
      "Method: taxonomy\n",
      "Transformed: I do n't have an opinion on this .\n",
      "Result: Applicable\n",
      "Method: negation\n",
      "Transformed: I do not stimulate an opinion on this.\n",
      "Result: Applicable\n",
      "Method: coreference\n",
      "Transformed: I do n't have an opinion on opinion.\n",
      "Result: Applicable\n",
      "Method: srl\n",
      "Transformed: I don't have an opinion on this.\n",
      "Result: Not Applicable\n",
      "Method: logic\n",
      "Result: Not Applicable (No if...then structure in input)\n",
      "Method: fairness\n",
      "Result: Not Applicable (Gender word already present in input)\n",
      "Method: temporal\n",
      "Transformed: I tomorrow don't have an opinion on this.\n",
      "Result: Applicable\n",
      "Method: ner\n",
      "Result: Not Applicable (No location in input)\n",
      "Method: vocab\n",
      "Transformed: I do n't have an fallen opinion on this .\n",
      "Result: Applicable\n",
      "Summary Results: {'robust': 'Applicable', 'taxonomy': 'Applicable', 'negation': 'Applicable', 'coreference': 'Applicable', 'srl': 'Not Applicable', 'logic': 'Not Applicable', 'fairness': 'Not Applicable', 'temporal': 'Applicable', 'ner': 'Not Applicable', 'vocab': 'Applicable'}\n",
      "==================================================\n",
      "Testing sentence: I don't have strong feelings about this.\n",
      "Method: robust\n",
      "Outputs: [\"I dno't have strong feelings about this.\", \"I don't ahve strong feelings about this.\", \"I don't have srtong feelings about this.\", \"I don't have strong efelings about this.\", \"I don't have strong feelings abuot this.\", \"I don't have strong feelings about htis.\"]\n",
      "Result: Applicable\n",
      "Method: taxonomy\n",
      "Transformed: I do n't have unattackable feelings about this .\n",
      "Result: Applicable\n",
      "Method: negation\n",
      "Transformed: I do not hold strong feelings about this.\n",
      "Result: Applicable\n",
      "Method: coreference\n",
      "Transformed: I do n't have strong feelings about feelings.\n",
      "Result: Applicable\n",
      "Method: srl\n",
      "Transformed: I don't have strong feelings about this.\n",
      "Result: Not Applicable\n",
      "Method: logic\n",
      "Result: Not Applicable (No if...then structure in input)\n",
      "Method: fairness\n",
      "Result: Not Applicable (Gender word already present in input)\n",
      "Method: temporal\n",
      "Transformed: I today don't have strong feelings about this.\n",
      "Result: Applicable\n",
      "Method: ner\n",
      "Result: Not Applicable (No location in input)\n",
      "Method: vocab\n",
      "Transformed: I do affably n't have strong feelings about this .\n",
      "Result: Applicable\n",
      "Summary Results: {'robust': 'Applicable', 'taxonomy': 'Applicable', 'negation': 'Applicable', 'coreference': 'Applicable', 'srl': 'Not Applicable', 'logic': 'Not Applicable', 'fairness': 'Not Applicable', 'temporal': 'Applicable', 'ner': 'Not Applicable', 'vocab': 'Applicable'}\n",
      "==================================================\n",
      "Testing sentence: The internet speed is slow.\n",
      "Method: robust\n",
      "Outputs: ['Teh internet speed is slow.', 'The interent speed is slow.', 'The internet spede is slow.', 'The internet speed si slow.', 'The internet speed is slwo.']\n",
      "Result: Applicable\n",
      "Method: taxonomy\n",
      "Transformed: The internet speed is dim .\n",
      "Result: Applicable\n",
      "Method: negation\n",
      "Result: Not Applicable (No negation in input)\n",
      "Method: coreference\n",
      "Transformed: The internet speed is slow.\n",
      "Result: Not Applicable\n",
      "Method: srl\n",
      "Transformed: The internet speed is slow.\n",
      "Result: Not Applicable\n",
      "Method: logic\n",
      "Result: Not Applicable (No if...then structure in input)\n",
      "Method: fairness\n",
      "Result: Not Applicable (Gender word already present in input)\n",
      "Method: temporal\n",
      "Transformed: The internet speed yesterday is slow.\n",
      "Result: Applicable\n",
      "Method: ner\n",
      "Result: Not Applicable (No location in input)\n",
      "Method: vocab\n",
      "Transformed: The weather-beaten internet speed is slow .\n",
      "Result: Applicable\n",
      "Summary Results: {'robust': 'Applicable', 'taxonomy': 'Applicable', 'negation': 'Not Applicable', 'coreference': 'Not Applicable', 'srl': 'Not Applicable', 'logic': 'Not Applicable', 'fairness': 'Not Applicable', 'temporal': 'Applicable', 'ner': 'Not Applicable', 'vocab': 'Applicable'}\n",
      "==================================================\n",
      "Testing sentence: The museum was fascinating.\n",
      "Method: robust\n",
      "Outputs: ['hTe museum was fascinating.', 'The muesum was fascinating.', 'The museum aws fascinating.', 'The museum was fsacinating.']\n",
      "Result: Applicable\n",
      "Method: taxonomy\n",
      "Transformed: The museum was fascinating .\n",
      "Result: Applicable\n",
      "Method: negation\n",
      "Result: Not Applicable (No negation in input)\n",
      "Method: coreference\n",
      "Transformed: The museum was fascinating.\n",
      "Result: Not Applicable\n",
      "Method: srl\n",
      "Transformed: The museum was fascinating.\n",
      "Result: Not Applicable\n",
      "Method: logic\n",
      "Result: Not Applicable (No if...then structure in input)\n",
      "Method: fairness\n",
      "Result: Not Applicable (Gender word already present in input)\n",
      "Method: temporal\n",
      "Transformed: The museum today was fascinating.\n",
      "Result: Applicable\n",
      "Method: ner\n",
      "Result: Not Applicable (No location in input)\n",
      "Method: vocab\n",
      "Transformed: The plastic museum was fascinating .\n",
      "Result: Applicable\n",
      "Summary Results: {'robust': 'Applicable', 'taxonomy': 'Applicable', 'negation': 'Not Applicable', 'coreference': 'Not Applicable', 'srl': 'Not Applicable', 'logic': 'Not Applicable', 'fairness': 'Not Applicable', 'temporal': 'Applicable', 'ner': 'Not Applicable', 'vocab': 'Applicable'}\n",
      "==================================================\n",
      "Testing sentence: The noise level is too high.\n",
      "Method: robust\n",
      "Outputs: ['hTe noise level is too high.', 'The onise level is too high.', 'The noise elvel is too high.', 'The noise level si too high.', 'The noise level is too high.', 'The noise level is too hig.h']\n",
      "Result: Applicable\n",
      "Method: taxonomy\n",
      "Transformed: The noise level is also gamey .\n",
      "Result: Applicable\n",
      "Method: negation\n",
      "Result: Not Applicable (No negation in input)\n",
      "Method: coreference\n",
      "Transformed: The noise level is too high.\n",
      "Result: Not Applicable\n",
      "Method: srl\n",
      "Transformed: The noise level is too high.\n",
      "Result: Not Applicable\n",
      "Method: logic\n",
      "Result: Not Applicable (No if...then structure in input)\n",
      "Method: fairness\n",
      "Result: Not Applicable (Gender word already present in input)\n",
      "Method: temporal\n",
      "Transformed: The noise level yesterday is too high.\n",
      "Result: Applicable\n",
      "Method: ner\n",
      "Result: Not Applicable (No location in input)\n",
      "Method: vocab\n",
      "Transformed: The opposed noise level is too high .\n",
      "Result: Applicable\n",
      "Summary Results: {'robust': 'Applicable', 'taxonomy': 'Applicable', 'negation': 'Not Applicable', 'coreference': 'Not Applicable', 'srl': 'Not Applicable', 'logic': 'Not Applicable', 'fairness': 'Not Applicable', 'temporal': 'Applicable', 'ner': 'Not Applicable', 'vocab': 'Applicable'}\n",
      "==================================================\n",
      "Testing sentence: The hotel room was spacious and clean.\n",
      "Method: robust\n",
      "Outputs: ['hTe hotel room was spacious and clean.', 'The hotle room was spacious and clean.', 'The hotel room was spacious and clean.', 'The hotel room wsa spacious and clean.', 'The hotel room was sapcious and clean.', 'The hotel room was spacious nad clean.', 'The hotel room was spacious and celan.']\n",
      "Result: Applicable\n",
      "Method: taxonomy\n",
      "Transformed: The hotel room was broad and uncontaminating .\n",
      "Result: Applicable\n",
      "Method: negation\n",
      "Result: Not Applicable (No negation in input)\n",
      "Method: coreference\n",
      "Transformed: The hotel room was spacious and clean.\n",
      "Result: Not Applicable\n",
      "Method: srl\n",
      "Transformed: The hotel room was spacious and clean.\n",
      "Result: Not Applicable\n",
      "Method: logic\n",
      "Result: Not Applicable (No if...then structure in input)\n",
      "Method: fairness\n",
      "Result: Not Applicable (Gender word already present in input)\n",
      "Method: temporal\n",
      "Transformed: The hotel room yesterday was spacious and clean.\n",
      "Result: Applicable\n",
      "Method: ner\n",
      "Result: Not Applicable (No location in input)\n",
      "Method: vocab\n",
      "Transformed: The romanticistic hotel room was spacious and clean .\n",
      "Result: Applicable\n",
      "Summary Results: {'robust': 'Applicable', 'taxonomy': 'Applicable', 'negation': 'Not Applicable', 'coreference': 'Not Applicable', 'srl': 'Not Applicable', 'logic': 'Not Applicable', 'fairness': 'Not Applicable', 'temporal': 'Applicable', 'ner': 'Not Applicable', 'vocab': 'Applicable'}\n",
      "==================================================\n"
     ]
    }
   ],
   "source": [
    "# List of test sentences\n",
    "test_sentences = [\n",
    "    \"I don't really care about this.\",\n",
    "    \"I don't have an opinion on this.\",\n",
    "    \"I don't have strong feelings about this.\",\n",
    "    \"The internet speed is slow.\",\n",
    "    \"The museum was fascinating.\",\n",
    "    \"The noise level is too high.\",\n",
    "    \"The hotel room was spacious and clean.\"\n",
    "]\n",
    "\n",
    "# Test each sentence\n",
    "for sentence in test_sentences:\n",
    "    print(f\"Testing sentence: {sentence}\")\n",
    "    results = test_perturbations_debug(sentence)\n",
    "    print(f\"Summary Results: {results}\")\n",
    "    print(\"=\" * 50)\n",
    "\n"
   ]
  },
  {
   "cell_type": "code",
   "execution_count": 26,
   "metadata": {},
   "outputs": [
    {
     "name": "stdout",
     "output_type": "stream",
     "text": [
      "Testing sentence: Is a pound sterling valuable?\n",
      "Method: robust\n",
      "Outputs: ['sI a pound sterling valuable?', 'Is a ponud sterling valuable?', 'Is a pound tserling valuable?', 'Is a pound sterling valuabl?e']\n",
      "Result: Applicable\n",
      "Method: taxonomy\n",
      "Transformed: Is a pound sterling worthful ?\n",
      "Result: Applicable\n",
      "Method: negation\n",
      "Result: Not Applicable (No negation in input)\n",
      "Method: coreference\n",
      "Result: Not Applicable (No pronoun in input)\n",
      "Method: srl\n",
      "Transformed: Is a pound sterling valuable?\n",
      "Result: Not Applicable\n",
      "Method: logic\n",
      "Result: Not Applicable (No if...then structure in input)\n",
      "Method: fairness\n",
      "Transformed: Is a male pound sterling valuable?\n",
      "Result: Applicable\n",
      "Method: temporal\n",
      "Transformed: Today Is a pound sterling valuable?\n",
      "Result: Applicable\n",
      "Method: ner\n",
      "Result: Not Applicable (No location in input)\n",
      "Method: vocab\n",
      "Transformed: Is a hooked pound sterling valuable ?\n",
      "Result: Applicable\n",
      "{'robust': 'Applicable', 'taxonomy': 'Applicable', 'negation': 'Not Applicable', 'coreference': 'Not Applicable', 'srl': 'Not Applicable', 'logic': 'Not Applicable', 'fairness': 'Applicable', 'temporal': 'Applicable', 'ner': 'Not Applicable', 'vocab': 'Applicable'}\n",
      "--------------------------------------------------\n",
      "Testing sentence: Is shrimp scampi definitely free of plastic?\n",
      "Method: robust\n",
      "Outputs: ['sI shrimp scampi definitely free of plastic?', 'Is hsrimp scampi definitely free of plastic?', 'Is shrimp scamip definitely free of plastic?', 'Is shrimp scampi defiintely free of plastic?', 'Is shrimp scampi definitely fere of plastic?', 'Is shrimp scampi definitely free fo plastic?', 'Is shrimp scampi definitely free of platsic?']\n",
      "Result: Applicable\n",
      "Method: taxonomy\n",
      "Transformed: Is shrimp scampi in spades destitute of plastic ?\n",
      "Result: Applicable\n",
      "Method: negation\n",
      "Result: Not Applicable (No negation in input)\n",
      "Method: coreference\n",
      "Transformed: Is shrimp scampi definitely free of plastic?\n",
      "Result: Not Applicable\n",
      "Method: srl\n",
      "Transformed: Is shrimp scampi definitely free of plastic?\n",
      "Result: Not Applicable\n",
      "Method: logic\n",
      "Result: Not Applicable (No if...then structure in input)\n",
      "Method: fairness\n",
      "Transformed: Is shrimp female scampi definitely free of plastic?\n",
      "Result: Applicable\n",
      "Method: temporal\n",
      "Transformed: Tomorrow Is shrimp scampi definitely free of plastic?\n",
      "Result: Applicable\n",
      "Method: ner\n",
      "Result: Not Applicable (No location in input)\n",
      "Method: vocab\n",
      "Transformed: Is shrimp plush-like scampi definitely free of plastic ?\n",
      "Result: Applicable\n",
      "{'robust': 'Applicable', 'taxonomy': 'Applicable', 'negation': 'Not Applicable', 'coreference': 'Not Applicable', 'srl': 'Not Applicable', 'logic': 'Not Applicable', 'fairness': 'Applicable', 'temporal': 'Applicable', 'ner': 'Not Applicable', 'vocab': 'Applicable'}\n",
      "--------------------------------------------------\n",
      "Testing sentence: Do the anchors on Rede Globo speak Chinese?\n",
      "Method: robust\n",
      "Outputs: ['oD the anchors on Rede Globo speak Chinese?', 'Do teh anchors on Rede Globo speak Chinese?', 'Do the acnhors on Rede Globo speak Chinese?', 'Do the anchors no Rede Globo speak Chinese?', 'Do the anchors on eRde Globo speak Chinese?', 'Do the anchors on Rede Golbo speak Chinese?', 'Do the anchors on Rede Globo spaek Chinese?', 'Do the anchors on Rede Globo speak Chines?e']\n",
      "Result: Applicable\n",
      "Method: taxonomy\n",
      "Transformed: Do the anchors on Rede Globo speak Chinese ?\n",
      "Result: Applicable\n",
      "Method: negation\n",
      "Result: Not Applicable (No negation in input)\n",
      "Method: coreference\n",
      "Transformed: Do the anchors on Rede Globo speak Chinese?\n",
      "Result: Not Applicable\n",
      "Method: srl\n",
      "Transformed: Do the anchors on Rede Globo speak Chinese?\n",
      "Result: Not Applicable\n",
      "Method: logic\n",
      "Result: Not Applicable (No if...then structure in input)\n",
      "Method: fairness\n",
      "Result: Not Applicable (Gender word already present in input)\n",
      "Method: temporal\n",
      "Transformed: Yesterday Do the anchors on Red GGlobespeak Chinese?\n",
      "Result: Applicable\n",
      "Method: ner\n",
      "Result: Not Applicable (No location in input)\n",
      "Method: vocab\n",
      "Transformed: Do hereinbefore the anchors on Rede Globo speak Chinese ?\n",
      "Result: Applicable\n",
      "{'robust': 'Applicable', 'taxonomy': 'Applicable', 'negation': 'Not Applicable', 'coreference': 'Not Applicable', 'srl': 'Not Applicable', 'logic': 'Not Applicable', 'fairness': 'Not Applicable', 'temporal': 'Applicable', 'ner': 'Not Applicable', 'vocab': 'Applicable'}\n",
      "--------------------------------------------------\n"
     ]
    }
   ],
   "source": [
    "test_sentences = [\n",
    "    \"Is a pound sterling valuable?\",\n",
    "    \"Is shrimp scampi definitely free of plastic?\",\n",
    "    \"Do the anchors on Rede Globo speak Chinese?\"\n",
    "]\n",
    "\n",
    "# Test each sentence\n",
    "for sentence in test_sentences:\n",
    "    print(f\"Testing sentence: {sentence}\")\n",
    "    results = test_perturbations_debug(sentence)\n",
    "    print(results)\n",
    "    print(\"-\" * 50)"
   ]
  },
  {
   "cell_type": "code",
   "execution_count": null,
   "metadata": {},
   "outputs": [],
   "source": [
    "from nltk.corpus import wordnet as wn\n",
    "#https://stackoverflow.com/questions/24192979/how-to-generate-a-list-of-antonyms-for-adjectives-in-wordnet-using-python/64320638#64320638\n",
    "def antonyms_for(word):\n",
    "    antonyms = set()\n",
    "    for ss in wn.synsets(word):\n",
    "        for lemma in ss.lemmas():\n",
    "            any_pos_antonyms = [ antonym.name() for antonym in lemma.antonyms() ]\n",
    "            for antonym in any_pos_antonyms:\n",
    "                antonym_synsets = wn.synsets(antonym)\n",
    "                if wn.ADJ not in [ ss.pos() for ss in antonym_synsets ]:\n",
    "                    continue\n",
    "                antonyms.add(antonym)\n",
    "    return antonyms"
   ]
  },
  {
   "cell_type": "code",
   "execution_count": 4,
   "metadata": {},
   "outputs": [
    {
     "name": "stdout",
     "output_type": "stream",
     "text": [
      "{'bad', 'ill', 'evil'}\n"
     ]
    }
   ],
   "source": [
    "print(antonyms_for(\"good\"))\n"
   ]
  },
  {
   "cell_type": "code",
   "execution_count": 5,
   "metadata": {},
   "outputs": [
    {
     "name": "stdout",
     "output_type": "stream",
     "text": [
      "{'good', 'unregretful'}\n"
     ]
    }
   ],
   "source": [
    "print(antonyms_for(\"bad\"))\n"
   ]
  },
  {
   "cell_type": "code",
   "execution_count": 6,
   "metadata": {},
   "outputs": [
    {
     "name": "stdout",
     "output_type": "stream",
     "text": [
      "set()\n",
      "{'rich'}\n"
     ]
    }
   ],
   "source": [
    "print(antonyms_for(\"hate\"))\n",
    "print(antonyms_for(\"poor\"))"
   ]
  },
  {
   "cell_type": "code",
   "execution_count": 7,
   "metadata": {},
   "outputs": [
    {
     "name": "stdout",
     "output_type": "stream",
     "text": [
      "{'a': {'unhappy'}, 's': set()}\n",
      "{'n': set(), 'v': {'malfunction', 'idle'}}\n",
      "{'n': {'night'}}\n"
     ]
    }
   ],
   "source": [
    "from nltk.corpus import wordnet as wn\n",
    "\n",
    "def antonyms_for(word):\n",
    "    \"\"\"\n",
    "    Find antonyms for a given word across all parts of speech.\n",
    "    \n",
    "    :param word: The word for which to find antonyms.\n",
    "    :return: A dictionary with parts of speech as keys and sets of antonyms as values.\n",
    "    \"\"\"\n",
    "    antonyms = {}\n",
    "    for ss in wn.synsets(word):\n",
    "        pos = ss.pos()  # Part of speech for the current synset\n",
    "        if pos not in antonyms:\n",
    "            antonyms[pos] = set()\n",
    "        for lemma in ss.lemmas():\n",
    "            for antonym in lemma.antonyms():\n",
    "                antonyms[pos].add(antonym.name())\n",
    "    return antonyms\n",
    "\n",
    "# Example usage:\n",
    "# Find antonyms for \"happy\"\n",
    "print(antonyms_for(\"happy\"))\n",
    "\n",
    "# Find antonyms for \"run\"\n",
    "print(antonyms_for(\"run\"))\n",
    "\n",
    "# Find antonyms for \"day\"\n",
    "print(antonyms_for(\"day\"))\n"
   ]
  },
  {
   "cell_type": "code",
   "execution_count": 8,
   "metadata": {},
   "outputs": [
    {
     "name": "stdout",
     "output_type": "stream",
     "text": [
      "{'n': {'love'}, 'v': {'love'}}\n",
      "{'n': {'rich_people', 'rich'}, 's': set(), 'a': {'rich'}}\n"
     ]
    }
   ],
   "source": [
    "print(antonyms_for(\"hate\"))\n",
    "print(antonyms_for(\"poor\"))\n"
   ]
  },
  {
   "cell_type": "code",
   "execution_count": null,
   "metadata": {},
   "outputs": [],
   "source": []
  }
 ],
 "metadata": {
  "kernelspec": {
   "display_name": "sunghoon",
   "language": "python",
   "name": "python3"
  },
  "language_info": {
   "codemirror_mode": {
    "name": "ipython",
    "version": 3
   },
   "file_extension": ".py",
   "mimetype": "text/x-python",
   "name": "python",
   "nbconvert_exporter": "python",
   "pygments_lexer": "ipython3",
   "version": "3.9.21"
  }
 },
 "nbformat": 4,
 "nbformat_minor": 2
}
