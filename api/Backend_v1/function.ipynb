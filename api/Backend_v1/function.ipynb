{
 "cells": [
  {
   "cell_type": "code",
   "execution_count": 1,
   "metadata": {},
   "outputs": [
    {
     "name": "stderr",
     "output_type": "stream",
     "text": [
      "[nltk_data] Downloading package averaged_perceptron_tagger to\n",
      "[nltk_data]     C:\\Users\\chomm\\AppData\\Roaming\\nltk_data...\n",
      "[nltk_data]   Package averaged_perceptron_tagger is already up-to-\n",
      "[nltk_data]       date!\n",
      "[nltk_data] Downloading package wordnet to\n",
      "[nltk_data]     C:\\Users\\chomm\\AppData\\Roaming\\nltk_data...\n",
      "[nltk_data]   Package wordnet is already up-to-date!\n",
      "[nltk_data] Downloading package punkt to\n",
      "[nltk_data]     C:\\Users\\chomm\\AppData\\Roaming\\nltk_data...\n",
      "[nltk_data]   Package punkt is already up-to-date!\n",
      "c:\\Users\\chomm\\anaconda3\\envs\\sunghoon\\lib\\site-packages\\huggingface_hub\\file_download.py:795: FutureWarning: `resume_download` is deprecated and will be removed in version 1.0.0. Downloads always resume when possible. If you want to force a new download, use `force_download=True`.\n",
      "  warnings.warn(\n"
     ]
    }
   ],
   "source": [
    "from PromptOps.std_templates import ShotTemplateFormatter\n",
    "from PromptOps.icqa_templates import ICQATemplateFormatter\n",
    "from PromptOps.cot_templates import COTTemplateFormatter\n",
    "from PromptOps.test import PromptCompletion, Test\n",
    "from PromptOps.test_suite import TestSuite\n",
    "from PromptOps.perturb import Perturbation"
   ]
  },
  {
   "cell_type": "markdown",
   "metadata": {},
   "source": [
    "## Define LLM"
   ]
  },
  {
   "cell_type": "code",
   "execution_count": 2,
   "metadata": {},
   "outputs": [],
   "source": [
    "# Initialize the PromptCompletion model for Llama\n",
    "llama_url = \"http://127.0.0.1:8000/v1/chat/completions\"  # Replace with your Llama model URL\n",
    "completion = PromptCompletion(\n",
    "    model_provider=\"llama\",\n",
    "    model=\"llama-13b\",\n",
    "    system_content=\"You are an assistant that answer the question\",\n",
    "    temperature=0.5,\n",
    "    top_p=0.9,\n",
    "    max_tokens=150,\n",
    "    llama_url=llama_url\n",
    ")"
   ]
  },
  {
   "cell_type": "code",
   "execution_count": 3,
   "metadata": {},
   "outputs": [],
   "source": [
    "perturbation = Perturbation()"
   ]
  },
  {
   "cell_type": "markdown",
   "metadata": {},
   "source": [
    "## Function"
   ]
  },
  {
   "cell_type": "code",
   "execution_count": 28,
   "metadata": {},
   "outputs": [],
   "source": [
    "import pandas as pd\n",
    "# shot_type='zero', 'one', 'few'\n",
    "def process_test_robust(file_path, shot_type, template):\n",
    "    \"\"\"\n",
    "    Process the input CSV file, run tests on the data, and return index scores.\n",
    "\n",
    "    Args:\n",
    "        file_path (str): Path to the input CSV file.\n",
    "        shot_type (str): Type of shot (e.g., 'one', 'few', etc.). Default is 'one'.\n",
    "\n",
    "    Returns:\n",
    "        dict: A dictionary containing scores for each Original_Question_Index.\n",
    "    \"\"\"\n",
    "    # Load the CSV file\n",
    "    df = pd.read_csv(file_path)\n",
    "\n",
    "    # Process questions with perturbations\n",
    "    result_df = perturbation.process_questions(df, question_column=\"Question\", expected_answer_column=\"Expected_answer\")\n",
    "    columns_to_merge = df.drop(columns=[\"Question\", \"Expected_answer\"])\n",
    "\n",
    "    # Merge with additional columns\n",
    "    merged_result_df = result_df.merge(\n",
    "        columns_to_merge,\n",
    "        left_on=\"Original_Question_Index\",\n",
    "        right_index=True,\n",
    "        how=\"left\"\n",
    "    )\n",
    "\n",
    "    # Rearrange column order\n",
    "    column_order = [\"Original_Question_Index\"] + \\\n",
    "                   list(columns_to_merge.columns) + \\\n",
    "                   [\"Original_Question\", \"Perturbation\", \"Perturbed_Question\", \"Expected_Answer\"]\n",
    "    merged_result_df = merged_result_df[column_order]\n",
    "\n",
    "    # Save intermediate results\n",
    "    output_file_path = \"merged_perturbation_results.csv\"\n",
    "    merged_result_df.to_csv(output_file_path, index=False)\n",
    "\n",
    "    # Format data for testing\n",
    "    if template=='std':\n",
    "        robust_formatter = ShotTemplateFormatter(output_file_path)\n",
    "    elif template=='icqa':\n",
    "        robust_formatter = ICQATemplateFormatter(output_file_path)\n",
    "    elif template=='cot':\n",
    "        robust_formatter = COTTemplateFormatter(output_file_path)\n",
    "\n",
    "    robust_formatted_data = robust_formatter.format_all_rows(shot_type=shot_type, perturb_type='robust')\n",
    "    robust_formatter.save_formatted_data_to_csv(robust_formatted_data, 'robust_new_formatted_one_shot.csv')\n",
    "    robust_formatted_data = pd.DataFrame(robust_formatted_data)\n",
    "\n",
    "    # Initialize TestSuite\n",
    "    test_suite = TestSuite()\n",
    "    index_scores = {}\n",
    "    \n",
    "    detailed_results = []  # Store detailed results for each test\n",
    "\n",
    "    for original_index in robust_formatted_data['Original_Question_Index'].unique():\n",
    "        print(f\"Running [Original_Question_Index {original_index}] test...\")\n",
    "\n",
    "        subset = robust_formatted_data[robust_formatted_data['Original_Question_Index'] == original_index]\n",
    "        index_result = {\"Original_Question_Index\": original_index, \"tests\": []}\n",
    "\n",
    "        for _, row in subset.iterrows():\n",
    "            test = Test(\n",
    "                name=f\"Test robust #{row.name + 1}\",\n",
    "                prompt=row[\"original_prompt\"],\n",
    "                expected_result=row[\"expected_result\"],\n",
    "                description=f\"A test with robust perturbation\",\n",
    "                perturb_method=row[\"perturb_type\"],\n",
    "                test_type=row[\"perturb_type\"],\n",
    "                perturb_text=row[\"perturb_prompt\"],\n",
    "            )\n",
    "            test_suite.add_test(test)\n",
    "\n",
    "        test_suite.run_all(completion)\n",
    "        results, summary = test_suite.summarize()\n",
    "        total_tests = summary['total_tests']\n",
    "        failures = summary['failures']\n",
    "        score = (total_tests - failures) / total_tests * 100\n",
    "\n",
    "        index_scores[original_index] = score\n",
    "        index_result[\"score\"] = score\n",
    "        index_result[\"summary\"] = summary\n",
    "        index_result[\"results\"] = results\n",
    "        detailed_results.append(index_result)\n",
    "\n",
    "        print(f\"Summary: {summary}\")\n",
    "        print(f\"Robust index {original_index}, score={score:.2f}%\")\n",
    "        test_suite.clear()\n",
    "    \n",
    "    return index_scores, detailed_results\n"
   ]
  },
  {
   "cell_type": "code",
   "execution_count": 29,
   "metadata": {},
   "outputs": [],
   "source": [
    "def process_test(file_path, shot_type, template, perturbation_types):\n",
    "    if template=='std':\n",
    "        formatter = ShotTemplateFormatter(file_path)\n",
    "    elif template=='icqa':\n",
    "        formatter = ICQATemplateFormatter(file_path)\n",
    "    elif template=='cot':\n",
    "        formatter = COTTemplateFormatter(file_path)\n",
    "    \n",
    "    csv_files = []\n",
    "    for perturb_type in perturbation_types:\n",
    "        #print(f\"Processing {perturb_type} perturbation...\")\n",
    "        formatted_data = formatter.format_all_rows(shot_type=shot_type, perturb_type=perturb_type)\n",
    "        output_file = f\"formatted_{perturb_type}_output.csv\"\n",
    "\n",
    "        formatter.save_formatted_data_to_csv(formatted_data, output_file)\n",
    "        csv_files.append((perturb_type, output_file))\n",
    "        #print(f\"Saved formatted data with {perturb_type} perturbation to {output_file}\")\n",
    "\n",
    "    test_suite = TestSuite()\n",
    "    for perturb_type, file_path in csv_files:\n",
    "        #print(f\"Processing file: {file_path} with perturbation: {perturb_type}\")\n",
    "        \n",
    "        # Load the CSV into a DataFrame\n",
    "        df = pd.read_csv(file_path)\n",
    "        \n",
    "        # Iterate over each row to create a test\n",
    "        for index, row in df.iterrows():\n",
    "            \n",
    "            test = Test(\n",
    "                name=f\"Test {perturb_type} #{index + 1}\",\n",
    "                prompt=row[\"original_prompt\"],  # Original prompt\n",
    "                expected_result=row[\"expected_result\"],  # Expected result\n",
    "                description=f\"A test with {perturb_type} perturbation\",\n",
    "                perturb_method=perturb_type,  # Perturbation type\n",
    "                test_type=perturb_type,\n",
    "                perturb_text=row[\"perturb_prompt\"],  # Perturbed prompt\n",
    "            )\n",
    "            test_suite.add_test(test)\n",
    "    test_suite.run_all(completion)\n",
    "    results, summary = test_suite.summarize()\n",
    "\n",
    "    test_suite.export_results(\"test_results.csv\", file_format=\"csv\", overwrite=True)\n",
    "    test_suite.export_results(\"test_results.xlsx\", file_format=\"xlsx\", overwrite=True)\n",
    "    test_suite.export_results(\"test_results.json\", file_format=\"json\", overwrite=True)\n",
    "\n",
    "    test_suite.clear()\n",
    "    return results, summary\n"
   ]
  },
  {
   "cell_type": "code",
   "execution_count": 30,
   "metadata": {},
   "outputs": [],
   "source": [
    "def process_score(index_scores, summary):\n",
    "    # Initialize counters\n",
    "    overall_total_tests = 0\n",
    "    overall_failures = 0\n",
    "\n",
    "    # Threshold for failure\n",
    "    threshold = 0.7\n",
    "\n",
    "    # Process index scores\n",
    "    for index, score in index_scores.items():\n",
    "        overall_total_tests += 1  # Each index counts as one test\n",
    "        if score < threshold * 100:  # Convert threshold to percentage\n",
    "            overall_failures += 1\n",
    "\n",
    "    # Add results from the summary for total tests and failures\n",
    "    overall_total_tests += summary['total_tests']\n",
    "    overall_failures += summary['failures']\n",
    "\n",
    "    # Calculate overall failure rate\n",
    "    overall_failure_rate = (overall_failures / overall_total_tests) * 100\n",
    "    return overall_total_tests, overall_failures, overall_failure_rate\n",
    "   "
   ]
  },
  {
   "cell_type": "code",
   "execution_count": 36,
   "metadata": {},
   "outputs": [],
   "source": [
    "def calculate_performance_score(detailed_scores, results):\n",
    "    import json\n",
    "\n",
    "    # Extract all score values from detailed scores\n",
    "    detailed_scores_values = []\n",
    "    for score in detailed_scores:\n",
    "        for result in score['results']:\n",
    "            detailed_scores_values.append(result['score_original'])\n",
    "\n",
    "    # Combine detailed scores and results scores\n",
    "    all_scores = detailed_scores_values + [result['score_original'] for result in results]\n",
    "\n",
    "    # Calculate the overall performance score\n",
    "    overall_performance_score = sum(all_scores) / len(all_scores)\n",
    "\n",
    "    # Initialize a dictionary to group scores by perturbation type\n",
    "    perturbation_scores = {}\n",
    "\n",
    "    for result in results:\n",
    "        test_type = result.get('test_type') or result['name'].split(\"#\")[0].strip().lower()\n",
    "        if test_type not in perturbation_scores:\n",
    "            perturbation_scores[test_type] = []\n",
    "        perturbation_scores[test_type].append(result['score_original'])\n",
    "\n",
    "    # Add robust scores from detailed scores to the group\n",
    "    if 'robust' not in perturbation_scores:\n",
    "        perturbation_scores['robust'] = []\n",
    "    for detailed_score in detailed_scores:\n",
    "        perturbation_scores['robust'].append(detailed_score['score'])\n",
    "\n",
    "    # Calculate the average score for each perturbation type\n",
    "    perturbation_averages = {}\n",
    "    for perturbation, scores in perturbation_scores.items():\n",
    "        perturbation_averages[perturbation] = sum(scores) / len(scores)\n",
    "\n",
    "    # Combine the results into a JSON-friendly dictionary\n",
    "    result_data = {\n",
    "        \"overall_performance_score\": overall_performance_score,\n",
    "        **perturbation_averages,\n",
    "    }\n",
    "\n",
    "    return json.dumps(result_data, indent=4)"
   ]
  },
  {
   "cell_type": "markdown",
   "metadata": {},
   "source": [
    "## Run"
   ]
  },
  {
   "cell_type": "markdown",
   "metadata": {},
   "source": [
    "### Robust\n",
    "- index_scores (use in summary score)  -> calcutale failure rate / total test \n",
    "- detailed_results ((use in dashboard score) ) -> calculate performance dashboard"
   ]
  },
  {
   "cell_type": "code",
   "execution_count": 34,
   "metadata": {},
   "outputs": [
    {
     "name": "stdout",
     "output_type": "stream",
     "text": [
      "Running [Original_Question_Index 0] test...\n",
      "Summary: {'total_tests': 5, 'failures': 0, 'fail_rate': 0.0}\n",
      "Robust index 0, score=100.00%\n",
      "Running [Original_Question_Index 1] test...\n",
      "Summary: {'total_tests': 8, 'failures': 0, 'fail_rate': 0.0}\n",
      "Robust index 1, score=100.00%\n",
      "Running [Original_Question_Index 2] test...\n",
      "Summary: {'total_tests': 5, 'failures': 1, 'fail_rate': 20.0}\n",
      "Robust index 2, score=80.00%\n"
     ]
    }
   ],
   "source": [
    "index_scores, robust_results = process_test_robust('one_shot_example.csv', shot_type='one', template='icqa')\n"
   ]
  },
  {
   "cell_type": "code",
   "execution_count": 39,
   "metadata": {},
   "outputs": [
    {
     "name": "stdout",
     "output_type": "stream",
     "text": [
      "Total test: {0: 100.0, 1: 100.0, 2: 80.0}\n",
      "Detailed score: [{'Original_Question_Index': 0, 'tests': [], 'score': 100.0, 'summary': {'total_tests': 5, 'failures': 0, 'fail_rate': 0.0}, 'results': [{'name': 'Test robust #1', 'description': 'A test with robust perturbation', 'test_type': 'robust', 'prompt': 'Instruction: Answer the following questions based on the context and provide answer in boolean (Yes or No)\\nContext: Cucumber plants need insects to pollinate them. Seedless cucumber does not require pollination.\\nQ: Is growing seedless cucumber good for a gardener with entomophobia?\\nA: Yes\\n\\nQ: Can cucumbers grow without insects?\\nA:', 'expected_result': 'Yes', 'perturb_text': 'Instruction: Answer the following questions based on the context and provide answer in boolean (Yes or No)\\nContext: Cucumber plants need insects to pollinate them. Seedless cucumber does not require pollination.\\nQ: Is growing seedless cucumber good for a gardener with entomophobia?\\nA: Yes\\n\\nQ: aCn cucumbers grow without insects?\\nA:', 'pass_condition': 'increase', 'capability': None, 'response_original': 'No', 'response_perturb': 'No', 'score_original': 0.7000373601913452, 'score_perturb': 0.7000373601913452, 'fail': False}, {'name': 'Test robust #2', 'description': 'A test with robust perturbation', 'test_type': 'robust', 'prompt': 'Instruction: Answer the following questions based on the context and provide answer in boolean (Yes or No)\\nContext: Cucumber plants need insects to pollinate them. Seedless cucumber does not require pollination.\\nQ: Is growing seedless cucumber good for a gardener with entomophobia?\\nA: Yes\\n\\nQ: Can cucumbers grow without insects?\\nA:', 'expected_result': 'Yes', 'perturb_text': 'Instruction: Answer the following questions based on the context and provide answer in boolean (Yes or No)\\nContext: Cucumber plants need insects to pollinate them. Seedless cucumber does not require pollination.\\nQ: Is growing seedless cucumber good for a gardener with entomophobia?\\nA: Yes\\n\\nQ: Can cucubmers grow without insects?\\nA:', 'pass_condition': 'increase', 'capability': None, 'response_original': 'No', 'response_perturb': 'No', 'score_original': 0.7000373601913452, 'score_perturb': 0.7000373601913452, 'fail': False}, {'name': 'Test robust #3', 'description': 'A test with robust perturbation', 'test_type': 'robust', 'prompt': 'Instruction: Answer the following questions based on the context and provide answer in boolean (Yes or No)\\nContext: Cucumber plants need insects to pollinate them. Seedless cucumber does not require pollination.\\nQ: Is growing seedless cucumber good for a gardener with entomophobia?\\nA: Yes\\n\\nQ: Can cucumbers grow without insects?\\nA:', 'expected_result': 'Yes', 'perturb_text': 'Instruction: Answer the following questions based on the context and provide answer in boolean (Yes or No)\\nContext: Cucumber plants need insects to pollinate them. Seedless cucumber does not require pollination.\\nQ: Is growing seedless cucumber good for a gardener with entomophobia?\\nA: Yes\\n\\nQ: Can cucumbers gorw without insects?\\nA:', 'pass_condition': 'increase', 'capability': None, 'response_original': 'No', 'response_perturb': 'No', 'score_original': 0.7000373601913452, 'score_perturb': 0.7000373601913452, 'fail': False}, {'name': 'Test robust #4', 'description': 'A test with robust perturbation', 'test_type': 'robust', 'prompt': 'Instruction: Answer the following questions based on the context and provide answer in boolean (Yes or No)\\nContext: Cucumber plants need insects to pollinate them. Seedless cucumber does not require pollination.\\nQ: Is growing seedless cucumber good for a gardener with entomophobia?\\nA: Yes\\n\\nQ: Can cucumbers grow without insects?\\nA:', 'expected_result': 'Yes', 'perturb_text': 'Instruction: Answer the following questions based on the context and provide answer in boolean (Yes or No)\\nContext: Cucumber plants need insects to pollinate them. Seedless cucumber does not require pollination.\\nQ: Is growing seedless cucumber good for a gardener with entomophobia?\\nA: Yes\\n\\nQ: Can cucumbers grow wihtout insects?\\nA:', 'pass_condition': 'increase', 'capability': None, 'response_original': 'No', 'response_perturb': 'No', 'score_original': 0.7000373601913452, 'score_perturb': 0.7000373601913452, 'fail': False}, {'name': 'Test robust #5', 'description': 'A test with robust perturbation', 'test_type': 'robust', 'prompt': 'Instruction: Answer the following questions based on the context and provide answer in boolean (Yes or No)\\nContext: Cucumber plants need insects to pollinate them. Seedless cucumber does not require pollination.\\nQ: Is growing seedless cucumber good for a gardener with entomophobia?\\nA: Yes\\n\\nQ: Can cucumbers grow without insects?\\nA:', 'expected_result': 'Yes', 'perturb_text': 'Instruction: Answer the following questions based on the context and provide answer in boolean (Yes or No)\\nContext: Cucumber plants need insects to pollinate them. Seedless cucumber does not require pollination.\\nQ: Is growing seedless cucumber good for a gardener with entomophobia?\\nA: Yes\\n\\nQ: Can cucumbers grow without insecst?\\nA:', 'pass_condition': 'increase', 'capability': None, 'response_original': 'No', 'response_perturb': 'No', 'score_original': 0.7000373601913452, 'score_perturb': 0.7000373601913452, 'fail': False}]}, {'Original_Question_Index': 1, 'tests': [], 'score': 100.0, 'summary': {'total_tests': 8, 'failures': 0, 'fail_rate': 0.0}, 'results': [{'name': 'Test robust #6', 'description': 'A test with robust perturbation', 'test_type': 'robust', 'prompt': 'Instruction: Answer the following questions based on the context and provide answer in boolean (Yes or No)\\nContext: Solar panels need sunlight to generate electricity. Modern solar panels work efficiently even on cloudy days.\\nQ: Can solar panels generate electricity on cloudy days?\\nA: Yes\\n\\nQ: Is sunlight necessary for solar panels to function?\\nA:', 'expected_result': 'Yes', 'perturb_text': 'Instruction: Answer the following questions based on the context and provide answer in boolean (Yes or No)\\nContext: Solar panels need sunlight to generate electricity. Modern solar panels work efficiently even on cloudy days.\\nQ: Can solar panels generate electricity on cloudy days?\\nA: Yes\\n\\nQ: sI sunlight necessary for solar panels to function?\\nA:', 'pass_condition': 'increase', 'capability': None, 'response_original': 'No', 'response_perturb': 'No', 'score_original': 0.7000373601913452, 'score_perturb': 0.7000373601913452, 'fail': False}, {'name': 'Test robust #7', 'description': 'A test with robust perturbation', 'test_type': 'robust', 'prompt': 'Instruction: Answer the following questions based on the context and provide answer in boolean (Yes or No)\\nContext: Solar panels need sunlight to generate electricity. Modern solar panels work efficiently even on cloudy days.\\nQ: Can solar panels generate electricity on cloudy days?\\nA: Yes\\n\\nQ: Is sunlight necessary for solar panels to function?\\nA:', 'expected_result': 'Yes', 'perturb_text': 'Instruction: Answer the following questions based on the context and provide answer in boolean (Yes or No)\\nContext: Solar panels need sunlight to generate electricity. Modern solar panels work efficiently even on cloudy days.\\nQ: Can solar panels generate electricity on cloudy days?\\nA: Yes\\n\\nQ: Is sunilght necessary for solar panels to function?\\nA:', 'pass_condition': 'increase', 'capability': None, 'response_original': 'No', 'response_perturb': 'No', 'score_original': 0.7000373601913452, 'score_perturb': 0.7000373601913452, 'fail': False}, {'name': 'Test robust #8', 'description': 'A test with robust perturbation', 'test_type': 'robust', 'prompt': 'Instruction: Answer the following questions based on the context and provide answer in boolean (Yes or No)\\nContext: Solar panels need sunlight to generate electricity. Modern solar panels work efficiently even on cloudy days.\\nQ: Can solar panels generate electricity on cloudy days?\\nA: Yes\\n\\nQ: Is sunlight necessary for solar panels to function?\\nA:', 'expected_result': 'Yes', 'perturb_text': 'Instruction: Answer the following questions based on the context and provide answer in boolean (Yes or No)\\nContext: Solar panels need sunlight to generate electricity. Modern solar panels work efficiently even on cloudy days.\\nQ: Can solar panels generate electricity on cloudy days?\\nA: Yes\\n\\nQ: Is sunlight neecssary for solar panels to function?\\nA:', 'pass_condition': 'increase', 'capability': None, 'response_original': 'No', 'response_perturb': 'No', 'score_original': 0.7000373601913452, 'score_perturb': 0.7000373601913452, 'fail': False}, {'name': 'Test robust #9', 'description': 'A test with robust perturbation', 'test_type': 'robust', 'prompt': 'Instruction: Answer the following questions based on the context and provide answer in boolean (Yes or No)\\nContext: Solar panels need sunlight to generate electricity. Modern solar panels work efficiently even on cloudy days.\\nQ: Can solar panels generate electricity on cloudy days?\\nA: Yes\\n\\nQ: Is sunlight necessary for solar panels to function?\\nA:', 'expected_result': 'Yes', 'perturb_text': 'Instruction: Answer the following questions based on the context and provide answer in boolean (Yes or No)\\nContext: Solar panels need sunlight to generate electricity. Modern solar panels work efficiently even on cloudy days.\\nQ: Can solar panels generate electricity on cloudy days?\\nA: Yes\\n\\nQ: Is sunlight necessary ofr solar panels to function?\\nA:', 'pass_condition': 'increase', 'capability': None, 'response_original': 'No', 'response_perturb': 'No', 'score_original': 0.7000373601913452, 'score_perturb': 0.7000373601913452, 'fail': False}, {'name': 'Test robust #10', 'description': 'A test with robust perturbation', 'test_type': 'robust', 'prompt': 'Instruction: Answer the following questions based on the context and provide answer in boolean (Yes or No)\\nContext: Solar panels need sunlight to generate electricity. Modern solar panels work efficiently even on cloudy days.\\nQ: Can solar panels generate electricity on cloudy days?\\nA: Yes\\n\\nQ: Is sunlight necessary for solar panels to function?\\nA:', 'expected_result': 'Yes', 'perturb_text': 'Instruction: Answer the following questions based on the context and provide answer in boolean (Yes or No)\\nContext: Solar panels need sunlight to generate electricity. Modern solar panels work efficiently even on cloudy days.\\nQ: Can solar panels generate electricity on cloudy days?\\nA: Yes\\n\\nQ: Is sunlight necessary for soalr panels to function?\\nA:', 'pass_condition': 'increase', 'capability': None, 'response_original': 'No', 'response_perturb': 'No', 'score_original': 0.7000373601913452, 'score_perturb': 0.7000373601913452, 'fail': False}, {'name': 'Test robust #11', 'description': 'A test with robust perturbation', 'test_type': 'robust', 'prompt': 'Instruction: Answer the following questions based on the context and provide answer in boolean (Yes or No)\\nContext: Solar panels need sunlight to generate electricity. Modern solar panels work efficiently even on cloudy days.\\nQ: Can solar panels generate electricity on cloudy days?\\nA: Yes\\n\\nQ: Is sunlight necessary for solar panels to function?\\nA:', 'expected_result': 'Yes', 'perturb_text': 'Instruction: Answer the following questions based on the context and provide answer in boolean (Yes or No)\\nContext: Solar panels need sunlight to generate electricity. Modern solar panels work efficiently even on cloudy days.\\nQ: Can solar panels generate electricity on cloudy days?\\nA: Yes\\n\\nQ: Is sunlight necessary for solar apnels to function?\\nA:', 'pass_condition': 'increase', 'capability': None, 'response_original': 'No', 'response_perturb': 'No', 'score_original': 0.7000373601913452, 'score_perturb': 0.7000373601913452, 'fail': False}, {'name': 'Test robust #12', 'description': 'A test with robust perturbation', 'test_type': 'robust', 'prompt': 'Instruction: Answer the following questions based on the context and provide answer in boolean (Yes or No)\\nContext: Solar panels need sunlight to generate electricity. Modern solar panels work efficiently even on cloudy days.\\nQ: Can solar panels generate electricity on cloudy days?\\nA: Yes\\n\\nQ: Is sunlight necessary for solar panels to function?\\nA:', 'expected_result': 'Yes', 'perturb_text': 'Instruction: Answer the following questions based on the context and provide answer in boolean (Yes or No)\\nContext: Solar panels need sunlight to generate electricity. Modern solar panels work efficiently even on cloudy days.\\nQ: Can solar panels generate electricity on cloudy days?\\nA: Yes\\n\\nQ: Is sunlight necessary for solar panels ot function?\\nA:', 'pass_condition': 'increase', 'capability': None, 'response_original': 'No', 'response_perturb': 'No', 'score_original': 0.7000373601913452, 'score_perturb': 0.7000373601913452, 'fail': False}, {'name': 'Test robust #13', 'description': 'A test with robust perturbation', 'test_type': 'robust', 'prompt': 'Instruction: Answer the following questions based on the context and provide answer in boolean (Yes or No)\\nContext: Solar panels need sunlight to generate electricity. Modern solar panels work efficiently even on cloudy days.\\nQ: Can solar panels generate electricity on cloudy days?\\nA: Yes\\n\\nQ: Is sunlight necessary for solar panels to function?\\nA:', 'expected_result': 'Yes', 'perturb_text': 'Instruction: Answer the following questions based on the context and provide answer in boolean (Yes or No)\\nContext: Solar panels need sunlight to generate electricity. Modern solar panels work efficiently even on cloudy days.\\nQ: Can solar panels generate electricity on cloudy days?\\nA: Yes\\n\\nQ: Is sunlight necessary for solar panels to fucntion?\\nA:', 'pass_condition': 'increase', 'capability': None, 'response_original': 'No', 'response_perturb': 'No', 'score_original': 0.7000373601913452, 'score_perturb': 0.7000373601913452, 'fail': False}]}, {'Original_Question_Index': 2, 'tests': [], 'score': 80.0, 'summary': {'total_tests': 5, 'failures': 1, 'fail_rate': 20.0}, 'results': [{'name': 'Test robust #14', 'description': 'A test with robust perturbation', 'test_type': 'robust', 'prompt': 'Instruction: Answer the following questions based on the context and provide answer in boolean (Yes or No)\\nContext: Exercise boosts mental health by releasing endorphins. Regular exercise can reduce symptoms of depression and anxiety.\\nQ: Can regular exercise improve mental health?\\nA: Yes\\n\\nQ: Does exercise help with anxiety?\\nA:', 'expected_result': 'Yes', 'perturb_text': 'Instruction: Answer the following questions based on the context and provide answer in boolean (Yes or No)\\nContext: Exercise boosts mental health by releasing endorphins. Regular exercise can reduce symptoms of depression and anxiety.\\nQ: Can regular exercise improve mental health?\\nA: Yes\\n\\nQ: Dose exercise help with anxiety?\\nA:', 'pass_condition': 'increase', 'capability': None, 'response_original': 'Yes', 'response_perturb': 'Yes', 'score_original': 1.0, 'score_perturb': 1.0, 'fail': False}, {'name': 'Test robust #15', 'description': 'A test with robust perturbation', 'test_type': 'robust', 'prompt': 'Instruction: Answer the following questions based on the context and provide answer in boolean (Yes or No)\\nContext: Exercise boosts mental health by releasing endorphins. Regular exercise can reduce symptoms of depression and anxiety.\\nQ: Can regular exercise improve mental health?\\nA: Yes\\n\\nQ: Does exercise help with anxiety?\\nA:', 'expected_result': 'Yes', 'perturb_text': 'Instruction: Answer the following questions based on the context and provide answer in boolean (Yes or No)\\nContext: Exercise boosts mental health by releasing endorphins. Regular exercise can reduce symptoms of depression and anxiety.\\nQ: Can regular exercise improve mental health?\\nA: Yes\\n\\nQ: Does exericse help with anxiety?\\nA:', 'pass_condition': 'increase', 'capability': None, 'response_original': 'Yes', 'response_perturb': 'Yes', 'score_original': 1.0, 'score_perturb': 1.0, 'fail': False}, {'name': 'Test robust #16', 'description': 'A test with robust perturbation', 'test_type': 'robust', 'prompt': 'Instruction: Answer the following questions based on the context and provide answer in boolean (Yes or No)\\nContext: Exercise boosts mental health by releasing endorphins. Regular exercise can reduce symptoms of depression and anxiety.\\nQ: Can regular exercise improve mental health?\\nA: Yes\\n\\nQ: Does exercise help with anxiety?\\nA:', 'expected_result': 'Yes', 'perturb_text': 'Instruction: Answer the following questions based on the context and provide answer in boolean (Yes or No)\\nContext: Exercise boosts mental health by releasing endorphins. Regular exercise can reduce symptoms of depression and anxiety.\\nQ: Can regular exercise improve mental health?\\nA: Yes\\n\\nQ: Does exercise hlep with anxiety?\\nA:', 'pass_condition': 'increase', 'capability': None, 'response_original': 'Yes', 'response_perturb': 'Yes', 'score_original': 1.0, 'score_perturb': 1.0, 'fail': False}, {'name': 'Test robust #17', 'description': 'A test with robust perturbation', 'test_type': 'robust', 'prompt': 'Instruction: Answer the following questions based on the context and provide answer in boolean (Yes or No)\\nContext: Exercise boosts mental health by releasing endorphins. Regular exercise can reduce symptoms of depression and anxiety.\\nQ: Can regular exercise improve mental health?\\nA: Yes\\n\\nQ: Does exercise help with anxiety?\\nA:', 'expected_result': 'Yes', 'perturb_text': 'Instruction: Answer the following questions based on the context and provide answer in boolean (Yes or No)\\nContext: Exercise boosts mental health by releasing endorphins. Regular exercise can reduce symptoms of depression and anxiety.\\nQ: Can regular exercise improve mental health?\\nA: Yes\\n\\nQ: Does exercise help wtih anxiety?\\nA:', 'pass_condition': 'increase', 'capability': None, 'response_original': 'Yes', 'response_perturb': 'Yes', 'score_original': 1.0, 'score_perturb': 1.0, 'fail': False}, {'name': 'Test robust #18', 'description': 'A test with robust perturbation', 'test_type': 'robust', 'prompt': 'Instruction: Answer the following questions based on the context and provide answer in boolean (Yes or No)\\nContext: Exercise boosts mental health by releasing endorphins. Regular exercise can reduce symptoms of depression and anxiety.\\nQ: Can regular exercise improve mental health?\\nA: Yes\\n\\nQ: Does exercise help with anxiety?\\nA:', 'expected_result': 'Yes', 'perturb_text': 'Instruction: Answer the following questions based on the context and provide answer in boolean (Yes or No)\\nContext: Exercise boosts mental health by releasing endorphins. Regular exercise can reduce symptoms of depression and anxiety.\\nQ: Can regular exercise improve mental health?\\nA: Yes\\n\\nQ: Does exercise help with naxiety?\\nA:', 'pass_condition': 'increase', 'capability': None, 'response_original': 'Yes', 'response_perturb': 'No', 'score_original': 1.0, 'score_perturb': 0.7000373601913452, 'fail': True}]}]\n"
     ]
    }
   ],
   "source": [
    "# Result\n",
    "print(\"Total test:\", index_scores)\n",
    "print(\"Detailed score:\", robust_results)\n",
    "#{0: 100.0, 1: 100.0, 2: 100.0}\n",
    "# 0 = '1st Prompt'\n",
    "# 1 = '2nd Prompt'\n",
    "# 2 = '3rd Prompt'"
   ]
  },
  {
   "cell_type": "markdown",
   "metadata": {},
   "source": [
    "### Other perturbation"
   ]
  },
  {
   "cell_type": "code",
   "execution_count": 21,
   "metadata": {},
   "outputs": [],
   "source": [
    "other_results, summary = process_test('one_shot_example.csv', shot_type='one', template='icqa', perturbation_types = ['taxonomy', 'vocab'])"
   ]
  },
  {
   "cell_type": "markdown",
   "metadata": {},
   "source": [
    "- summary (use in summary score)  -> calcutale failure rate / total test \n",
    "- other_results ((use in dashboard score) ) -> calculate performance dashboard"
   ]
  },
  {
   "cell_type": "code",
   "execution_count": 44,
   "metadata": {},
   "outputs": [
    {
     "name": "stdout",
     "output_type": "stream",
     "text": [
      "Results: [{'name': 'Test taxonomy #1', 'description': 'A test with taxonomy perturbation', 'test_type': 'taxonomy', 'prompt': 'Instruction: Answer the following questions based on the context and provide answer in boolean (Yes or No)\\nContext: Cucumber plants need insects to pollinate them. Seedless cucumber does not require pollination.\\nQ: Is growing seedless cucumber good for a gardener with entomophobia?\\nA: Yes\\n\\nQ: Can cucumbers grow without insects?\\nA:', 'expected_result': 'Yes', 'perturb_text': 'Instruction: Answer the following questions based on the context and provide answer in boolean (Yes or No)\\nContext: Cucumber plants need insects to pollinate them. Seedless cucumber does not require pollination.\\nQ: Is growing seedless cucumber good for a gardener with entomophobia?\\nA: Yes\\n\\nQ: Can cucumbers grow without insects ?\\nA:', 'pass_condition': 'increase', 'capability': None, 'response_original': 'No', 'response_perturb': 'No', 'score_original': 0.7000373601913452, 'score_perturb': 0.7000373601913452, 'fail': False}, {'name': 'Test taxonomy #2', 'description': 'A test with taxonomy perturbation', 'test_type': 'taxonomy', 'prompt': 'Instruction: Answer the following questions based on the context and provide answer in boolean (Yes or No)\\nContext: Solar panels need sunlight to generate electricity. Modern solar panels work efficiently even on cloudy days.\\nQ: Can solar panels generate electricity on cloudy days?\\nA: Yes\\n\\nQ: Is sunlight necessary for solar panels to function?\\nA:', 'expected_result': 'Yes', 'perturb_text': 'Instruction: Answer the following questions based on the context and provide answer in boolean (Yes or No)\\nContext: Solar panels need sunlight to generate electricity. Modern solar panels work efficiently even on cloudy days.\\nQ: Can solar panels generate electricity on cloudy days?\\nA: Yes\\n\\nQ: Is sunlight necessary for solar panels to function ?\\nA:', 'pass_condition': 'increase', 'capability': None, 'response_original': 'No', 'response_perturb': 'No', 'score_original': 0.7000373601913452, 'score_perturb': 0.7000373601913452, 'fail': False}, {'name': 'Test taxonomy #3', 'description': 'A test with taxonomy perturbation', 'test_type': 'taxonomy', 'prompt': 'Instruction: Answer the following questions based on the context and provide answer in boolean (Yes or No)\\nContext: Exercise boosts mental health by releasing endorphins. Regular exercise can reduce symptoms of depression and anxiety.\\nQ: Can regular exercise improve mental health?\\nA: Yes\\n\\nQ: Does exercise help with anxiety?\\nA:', 'expected_result': 'Yes', 'perturb_text': 'Instruction: Answer the following questions based on the context and provide answer in boolean (Yes or No)\\nContext: Exercise boosts mental health by releasing endorphins. Regular exercise can reduce symptoms of depression and anxiety.\\nQ: Can regular exercise improve mental health?\\nA: Yes\\n\\nQ: Does exercise help with anxiety ?\\nA:', 'pass_condition': 'increase', 'capability': None, 'response_original': 'Yes', 'response_perturb': 'Yes', 'score_original': 1.0, 'score_perturb': 1.0, 'fail': False}, {'name': 'Test vocab #1', 'description': 'A test with vocab perturbation', 'test_type': 'vocab', 'prompt': 'Instruction: Answer the following questions based on the context and provide answer in boolean (Yes or No)\\nContext: Cucumber plants need insects to pollinate them. Seedless cucumber does not require pollination.\\nQ: Is growing seedless cucumber good for a gardener with entomophobia?\\nA: Yes\\n\\nQ: Can cucumbers grow without insects?\\nA:', 'expected_result': 'Yes', 'perturb_text': 'Instruction: Answer the following questions based on the context and provide answer in boolean (Yes or No)\\nContext: Cucumber plants need insects to pollinate them. Seedless cucumber does not require pollination.\\nQ: Is growing seedless cucumber good for a gardener with entomophobia?\\nA: Yes\\n\\nQ: Can rebarbative cucumbers grow without insects ?\\nA:', 'pass_condition': 'increase', 'capability': None, 'response_original': 'No', 'response_perturb': 'No', 'score_original': 0.7000373601913452, 'score_perturb': 0.7000373601913452, 'fail': False}, {'name': 'Test vocab #2', 'description': 'A test with vocab perturbation', 'test_type': 'vocab', 'prompt': 'Instruction: Answer the following questions based on the context and provide answer in boolean (Yes or No)\\nContext: Solar panels need sunlight to generate electricity. Modern solar panels work efficiently even on cloudy days.\\nQ: Can solar panels generate electricity on cloudy days?\\nA: Yes\\n\\nQ: Is sunlight necessary for solar panels to function?\\nA:', 'expected_result': 'Yes', 'perturb_text': 'Instruction: Answer the following questions based on the context and provide answer in boolean (Yes or No)\\nContext: Solar panels need sunlight to generate electricity. Modern solar panels work efficiently even on cloudy days.\\nQ: Can solar panels generate electricity on cloudy days?\\nA: Yes\\n\\nQ: Is at_one_time sunlight necessary for solar panels to function ?\\nA:', 'pass_condition': 'increase', 'capability': None, 'response_original': 'No', 'response_perturb': 'No', 'score_original': 0.7000373601913452, 'score_perturb': 0.7000373601913452, 'fail': False}, {'name': 'Test vocab #3', 'description': 'A test with vocab perturbation', 'test_type': 'vocab', 'prompt': 'Instruction: Answer the following questions based on the context and provide answer in boolean (Yes or No)\\nContext: Exercise boosts mental health by releasing endorphins. Regular exercise can reduce symptoms of depression and anxiety.\\nQ: Can regular exercise improve mental health?\\nA: Yes\\n\\nQ: Does exercise help with anxiety?\\nA:', 'expected_result': 'Yes', 'perturb_text': 'Instruction: Answer the following questions based on the context and provide answer in boolean (Yes or No)\\nContext: Exercise boosts mental health by releasing endorphins. Regular exercise can reduce symptoms of depression and anxiety.\\nQ: Can regular exercise improve mental health?\\nA: Yes\\n\\nQ: Does exercise sturdily help with anxiety ?\\nA:', 'pass_condition': 'increase', 'capability': None, 'response_original': 'Yes', 'response_perturb': 'Yes', 'score_original': 1.0, 'score_perturb': 1.0, 'fail': False}]\n",
      "Summary: {'total_tests': 6, 'failures': 0, 'fail_rate': 0.0}\n"
     ]
    }
   ],
   "source": [
    "print(\"Results:\", other_results)\n",
    "print(\"Summary:\", summary)"
   ]
  },
  {
   "cell_type": "markdown",
   "metadata": {},
   "source": [
    "## Summary score of Robustness and other perturbation"
   ]
  },
  {
   "cell_type": "code",
   "execution_count": 37,
   "metadata": {},
   "outputs": [
    {
     "name": "stdout",
     "output_type": "stream",
     "text": [
      "Overall Total Tests: 9\n",
      "Overall Failures: 0\n",
      "Overall Failure Rate: 0.00%\n"
     ]
    }
   ],
   "source": [
    "overall_total_tests, overall_failures, overall_failure_rate = process_score(index_scores, summary)\n",
    "\n",
    "# Display results\n",
    "print(f\"Overall Total Tests: {overall_total_tests}\")\n",
    "print(f\"Overall Failures: {overall_failures}\")\n",
    "print(f\"Overall Failure Rate: {overall_failure_rate:.2f}%\")"
   ]
  },
  {
   "cell_type": "markdown",
   "metadata": {},
   "source": [
    "## Dashboard Score\n",
    "\n",
    "show performance\n"
   ]
  },
  {
   "cell_type": "code",
   "execution_count": 42,
   "metadata": {},
   "outputs": [],
   "source": [
    "performance = calculate_performance_score(robust_results, other_results)"
   ]
  },
  {
   "cell_type": "code",
   "execution_count": 43,
   "metadata": {},
   "outputs": [
    {
     "name": "stdout",
     "output_type": "stream",
     "text": [
      "{\n",
      "    \"overall_performance_score\": 0.7875264634688696,\n",
      "    \"taxonomy\": 0.8000249067942301,\n",
      "    \"vocab\": 0.8000249067942301,\n",
      "    \"robust\": 93.33333333333333\n",
      "}\n"
     ]
    }
   ],
   "source": [
    "print(performance)\n",
    "# overall performance score is average score original "
   ]
  },
  {
   "cell_type": "code",
   "execution_count": null,
   "metadata": {},
   "outputs": [],
   "source": []
  }
 ],
 "metadata": {
  "kernelspec": {
   "display_name": "sunghoon",
   "language": "python",
   "name": "python3"
  },
  "language_info": {
   "codemirror_mode": {
    "name": "ipython",
    "version": 3
   },
   "file_extension": ".py",
   "mimetype": "text/x-python",
   "name": "python",
   "nbconvert_exporter": "python",
   "pygments_lexer": "ipython3",
   "version": "3.9.21"
  }
 },
 "nbformat": 4,
 "nbformat_minor": 2
}
