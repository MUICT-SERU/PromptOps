{
 "cells": [
  {
   "cell_type": "code",
   "execution_count": 1,
   "metadata": {},
   "outputs": [],
   "source": [
    "import json\n",
    "import csv\n",
    "import re\n",
    "from sentence_transformers import SentenceTransformer\n",
    "from sklearn.metrics.pairwise import cosine_similarity\n",
    "\n",
    "def cosine_score(text1, text2, model):\n",
    "    \"\"\"\n",
    "    Calculate the cosine similarity score between two texts using SentenceTransformer.\n",
    "\n",
    "    Parameters:\n",
    "    text1 (str): The first text to compare.\n",
    "    text2 (str): The second text to compare.\n",
    "    model: Pre-loaded SentenceTransformer model to use for embeddings.\n",
    "\n",
    "    Returns:\n",
    "    float: The cosine similarity score between the two texts.\n",
    "    \"\"\"\n",
    "    # Encode the texts into embeddings\n",
    "    embeddings1 = model.encode([text1])\n",
    "    embeddings2 = model.encode([text2])\n",
    "\n",
    "    # Calculate the cosine similarity between the embeddings\n",
    "    score = cosine_similarity(embeddings1, embeddings2)\n",
    "\n",
    "    # Return the similarity score\n",
    "    return score[0][0]\n",
    "\n",
    "def extract_test_type_and_number(name):\n",
    "    \"\"\"Extract the test type and number from the test name.\"\"\"\n",
    "    match = re.match(r\"Test (\\w+) #(\\d+)\", name)\n",
    "    if match:\n",
    "        test_type, test_number = match.groups()\n",
    "        return test_type.lower(), test_number\n",
    "    return None, None\n",
    "\n",
    "def convert_json_to_csv(json_file, csv_file):\n",
    "    # Load the JSON data\n",
    "    with open(json_file, 'r') as f:\n",
    "        data = json.load(f)\n",
    "    \n",
    "    # Load the pre-trained SentenceTransformer model once\n",
    "    print(\"Loading SentenceTransformer model...\")\n",
    "    model = SentenceTransformer('all-distilroberta-v1')\n",
    "    \n",
    "    # Create a dictionary to organize data by test type and number\n",
    "    test_data = {}\n",
    "    test_numbers = set()\n",
    "    \n",
    "    # Process each test\n",
    "    print(\"Processing test data...\")\n",
    "    for test in data:\n",
    "        test_type, test_number = extract_test_type_and_number(test['name'])\n",
    "        if test_type is None:\n",
    "            continue\n",
    "        \n",
    "        test_numbers.add(int(test_number))\n",
    "        \n",
    "        # Calculate cosine similarity between original and perturbed responses\n",
    "        original_response = test['response_original']\n",
    "        perturbed_response = test['response_perturb']\n",
    "        orivsperturb = cosine_score(original_response, perturbed_response, model)\n",
    "        \n",
    "        # Format the key as \"test_type #test_number\"\n",
    "        key = f\"{test_type} #{test_number}\"\n",
    "        \n",
    "        # Store original and perturbed scores for each test\n",
    "        test_data[key] = {\n",
    "            'original': test['score_original'],\n",
    "            'perturbed': test['score_perturb'],\n",
    "            'orivsperturb': orivsperturb\n",
    "        }\n",
    "    \n",
    "    # Create CSV\n",
    "    print(\"Writing to CSV file...\")\n",
    "    with open(csv_file, 'w', newline='') as f:\n",
    "        writer = csv.writer(f)\n",
    "        \n",
    "        # Write header row\n",
    "        writer.writerow(['', 'original', 'perturbed', 'orivsperturb'])\n",
    "        \n",
    "        # Use the specified order for test types\n",
    "        ordered_types = [\n",
    "            \"taxonomy\",\n",
    "            \"negation\",\n",
    "            \"srl\",\n",
    "            \"vocabulary\",\n",
    "            \"fairness\",\n",
    "            \"robustness\",\n",
    "            \"logic\",\n",
    "            \"coreference\"\n",
    "        ]\n",
    "        \n",
    "        # Sort test numbers\n",
    "        sorted_numbers = sorted(test_numbers)\n",
    "        \n",
    "        # Write data rows for each test type and number combination\n",
    "        for num in sorted_numbers:\n",
    "            for test_type in ordered_types:\n",
    "                key = f\"{test_type} #{num}\"\n",
    "                if key in test_data:\n",
    "                    writer.writerow([\n",
    "                        key,\n",
    "                        test_data[key]['original'],\n",
    "                        test_data[key]['perturbed'],\n",
    "                        test_data[key]['orivsperturb']\n",
    "                    ])\n",
    "\n"
   ]
  },
  {
   "cell_type": "markdown",
   "metadata": {},
   "source": [
    "### run script gpt"
   ]
  },
  {
   "cell_type": "code",
   "execution_count": 2,
   "metadata": {},
   "outputs": [
    {
     "name": "stdout",
     "output_type": "stream",
     "text": [
      "Loading SentenceTransformer model...\n",
      "Processing test data...\n",
      "Writing to CSV file...\n",
      "Conversion completed. CSV file created: gpt_std_zero.csv\n"
     ]
    }
   ],
   "source": [
    "if __name__ == \"__main__\":\n",
    "    convert_json_to_csv('gpt_std_zero.json', 'gpt_std_zero.csv')\n",
    "    print(\"Conversion completed. CSV file created: gpt_std_zero.csv\")"
   ]
  },
  {
   "cell_type": "code",
   "execution_count": 3,
   "metadata": {},
   "outputs": [
    {
     "name": "stdout",
     "output_type": "stream",
     "text": [
      "Loading SentenceTransformer model...\n",
      "Processing test data...\n",
      "Writing to CSV file...\n",
      "Conversion completed. CSV file created: gpt_std_one.csv\n"
     ]
    }
   ],
   "source": [
    "if __name__ == \"__main__\":\n",
    "    convert_json_to_csv('gpt_std_one.json', 'gpt_std_one.csv')\n",
    "    print(\"Conversion completed. CSV file created: gpt_std_one.csv\")"
   ]
  },
  {
   "cell_type": "code",
   "execution_count": 4,
   "metadata": {},
   "outputs": [
    {
     "name": "stdout",
     "output_type": "stream",
     "text": [
      "Loading SentenceTransformer model...\n",
      "Processing test data...\n",
      "Writing to CSV file...\n",
      "Conversion completed. CSV file created: gpt_std_few.csv\n"
     ]
    }
   ],
   "source": [
    "if __name__ == \"__main__\":\n",
    "    convert_json_to_csv('gpt_std_few.json', 'gpt_std_few.csv')\n",
    "    print(\"Conversion completed. CSV file created: gpt_std_few.csv\")"
   ]
  },
  {
   "cell_type": "markdown",
   "metadata": {},
   "source": [
    "### run script gemini"
   ]
  },
  {
   "cell_type": "code",
   "execution_count": 5,
   "metadata": {},
   "outputs": [
    {
     "name": "stdout",
     "output_type": "stream",
     "text": [
      "Loading SentenceTransformer model...\n",
      "Processing test data...\n",
      "Writing to CSV file...\n",
      "Conversion completed. CSV file created: gemini_std_zero.csv\n"
     ]
    }
   ],
   "source": [
    "if __name__ == \"__main__\":\n",
    "    convert_json_to_csv('gemini_std_zero.json', 'gemini_std_zero.csv')\n",
    "    print(\"Conversion completed. CSV file created: gemini_std_zero.csv\")"
   ]
  },
  {
   "cell_type": "code",
   "execution_count": 6,
   "metadata": {},
   "outputs": [
    {
     "name": "stdout",
     "output_type": "stream",
     "text": [
      "Loading SentenceTransformer model...\n",
      "Processing test data...\n",
      "Writing to CSV file...\n",
      "Conversion completed. CSV file created: gemini_std_one.csv\n"
     ]
    }
   ],
   "source": [
    "if __name__ == \"__main__\":\n",
    "    convert_json_to_csv('gemini_std_one.json', 'gemini_std_one.csv')\n",
    "    print(\"Conversion completed. CSV file created: gemini_std_one.csv\")"
   ]
  },
  {
   "cell_type": "code",
   "execution_count": 7,
   "metadata": {},
   "outputs": [
    {
     "name": "stdout",
     "output_type": "stream",
     "text": [
      "Loading SentenceTransformer model...\n",
      "Processing test data...\n",
      "Writing to CSV file...\n",
      "Conversion completed. CSV file created: gemini_std_few.csv\n"
     ]
    }
   ],
   "source": [
    "if __name__ == \"__main__\":\n",
    "    convert_json_to_csv('gemini_std_few.json', 'gemini_std_few.csv')\n",
    "    print(\"Conversion completed. CSV file created: gemini_std_few.csv\")"
   ]
  },
  {
   "cell_type": "code",
   "execution_count": null,
   "metadata": {},
   "outputs": [],
   "source": []
  }
 ],
 "metadata": {
  "kernelspec": {
   "display_name": "sunghoon",
   "language": "python",
   "name": "python3"
  },
  "language_info": {
   "codemirror_mode": {
    "name": "ipython",
    "version": 3
   },
   "file_extension": ".py",
   "mimetype": "text/x-python",
   "name": "python",
   "nbconvert_exporter": "python",
   "pygments_lexer": "ipython3",
   "version": "3.9.21"
  }
 },
 "nbformat": 4,
 "nbformat_minor": 2
}
