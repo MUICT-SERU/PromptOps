{
 "cells": [
  {
   "cell_type": "code",
   "execution_count": null,
   "metadata": {},
   "outputs": [],
   "source": [
    "import sys\n",
    "import os\n",
    "\n",
    "# import modules from PromptOps\n",
    "from PromptOps.std_templates import ShotTemplateFormatter\n",
    "from PromptOps.icqa_templates import ICQATemplateFormatter\n",
    "from PromptOps.cot_templates import COTTemplateFormatter\n",
    "from PromptOps.test import PromptCompletion, Test\n",
    "from PromptOps.test_suite import TestSuite\n",
    "from PromptOps.perturb import Perturbation\n",
    "\n",
    "from PromptOps.cosine_score import cosine_score\n"
   ]
  },
  {
   "cell_type": "markdown",
   "metadata": {},
   "source": [
    "# OpenAI"
   ]
  },
  {
   "cell_type": "markdown",
   "metadata": {
    "notebookRunGroups": {
     "groupValue": "2"
    }
   },
   "source": [
    "## Standard"
   ]
  },
  {
   "cell_type": "markdown",
   "metadata": {},
   "source": [
    "### STD Zero Shot"
   ]
  },
  {
   "cell_type": "code",
   "execution_count": null,
   "metadata": {},
   "outputs": [],
   "source": [
    "completion = PromptCompletion(\n",
    "    model_provider=\"openai\",\n",
    "    model=\"gpt-4o\",\n",
    "    system_content=\"You will act like a question-answering system that answers the given question.\",\n",
    "    temperature=0,\n",
    "    top_p=0,\n",
    "    max_tokens=150,\n",
    "    api_key=\"Your-API-Key\"\n",
    ")"
   ]
  },
  {
   "cell_type": "code",
   "execution_count": null,
   "metadata": {},
   "outputs": [],
   "source": [
    "file_path = \"/path/to/prompt/qna_no_context/filename.csv\"\n",
    "formatter = ShotTemplateFormatter(file_path)\n",
    "formatted_data = formatter.format_all_rows(shot_type=\"zero\")\n",
    "formatter.save_formatted_data_to_csv(formatted_data, output_filepath=\"gpt_std_zero_shot.csv\")\n",
    "print(formatted_data)"
   ]
  },
  {
   "cell_type": "code",
   "execution_count": null,
   "metadata": {},
   "outputs": [],
   "source": [
    "csv_files = \"gpt_std_zero_shot.csv\""
   ]
  },
  {
   "cell_type": "code",
   "execution_count": null,
   "metadata": {},
   "outputs": [],
   "source": [
    "import pandas as pd\n",
    "for file_path in csv_files:\n",
    "    #print(f\"Processing file: {file_path} with perturbation: {perturb_type}\")\n",
    "        \n",
    "    # Load the CSV into a DataFrame\n",
    "    df = pd.read_csv(csv_files)\n",
    "    \n",
    "    test_suite = TestSuite()\n",
    "    # Iterate over each row to create a test\n",
    "    for index, row in df.iterrows():\n",
    "            \n",
    "        test = Test(\n",
    "            name=f\"Test fairness #{index + 1}\",\n",
    "            prompt=row[\"original_prompt\"],  # Original prompt\n",
    "            expected_result=row[\"expected_result\"],  # Expected result\n",
    "            description=f\"A test with fairness perturbation\",\n",
    "            test_type=\"fairness\", #Perturbation Type\n",
    "            perturb_text=row[\"perturb_prompt\"],  # Perturbed prompt\n",
    "        )\n",
    "        test_suite.add_test(test)\n",
    "test_suite.run_all(completion)\n",
    "results, summary = test_suite.summarize()\n",
    "\n",
    "test_suite.export_results(\"gpt_std_zero_test_results.json\", file_format=\"json\", overwrite=True)\n",
    "\n",
    "test_suite.clear()\n"
   ]
  },
  {
   "cell_type": "code",
   "execution_count": null,
   "metadata": {},
   "outputs": [],
   "source": [
    "print(\"Results:\", results)\n",
    "print(\"Summary:\", summary)"
   ]
  },
  {
   "cell_type": "markdown",
   "metadata": {},
   "source": [
    "### STD One Shot"
   ]
  },
  {
   "cell_type": "code",
   "execution_count": null,
   "metadata": {},
   "outputs": [],
   "source": [
    "completion = PromptCompletion(\n",
    "    model_provider=\"openai\",\n",
    "    model=\"gpt-4o\",\n",
    "    system_content=\"\"\"You will act like a question-answering system that answers the given question. Given below is an example of the question-answering task.\n",
    "\n",
    "Question: Would a Monoamine Oxidase candy bar cheer up a depressed friend?\n",
    "Answer: No\n",
    "\"\"\",\n",
    "    temperature=0,\n",
    "    top_p=0,\n",
    "    max_tokens=150,\n",
    "    api_key=\"Your-API-Key\"\n",
    ")"
   ]
  },
  {
   "cell_type": "code",
   "execution_count": null,
   "metadata": {},
   "outputs": [],
   "source": [
    "file_path = \"/path/to/prompt/qna_no_context/filename.csv\"\n",
    "formatter = ShotTemplateFormatter(file_path)\n",
    "formatted_data = formatter.format_all_rows(shot_type=\"one\")\n",
    "formatter.save_formatted_data_to_csv(formatted_data, output_filepath=\"gpt_std_one_shot.csv\")\n",
    "print(formatted_data)"
   ]
  },
  {
   "cell_type": "code",
   "execution_count": null,
   "metadata": {},
   "outputs": [],
   "source": [
    "csv_files = \"gpt_std_one_shot.csv\""
   ]
  },
  {
   "cell_type": "code",
   "execution_count": null,
   "metadata": {},
   "outputs": [],
   "source": [
    "import pandas as pd\n",
    "for file_path in csv_files:\n",
    "    #print(f\"Processing file: {file_path} with perturbation: {perturb_type}\")\n",
    "        \n",
    "    # Load the CSV into a DataFrame\n",
    "    df = pd.read_csv(csv_files)\n",
    "    \n",
    "    test_suite = TestSuite()\n",
    "    # Iterate over each row to create a test\n",
    "    for index, row in df.iterrows():\n",
    "            \n",
    "        test = Test(\n",
    "            name=f\"Test fairness #{index + 1}\",\n",
    "            prompt=row[\"original_prompt\"],  # Original prompt\n",
    "            expected_result=row[\"expected_result\"],  # Expected result\n",
    "            description=f\"A test with fairness perturbation\",\n",
    "            test_type=\"fairness\", #Perturbation Type\n",
    "            perturb_text=row[\"perturb_prompt\"],  # Perturbed prompt\n",
    "        )\n",
    "        test_suite.add_test(test)\n",
    "test_suite.run_all(completion)\n",
    "results, summary = test_suite.summarize()\n",
    "\n",
    "test_suite.export_results(\"gpt_std_one_test_results.json\", file_format=\"json\", overwrite=True)\n",
    "\n",
    "test_suite.clear()\n"
   ]
  },
  {
   "cell_type": "code",
   "execution_count": null,
   "metadata": {},
   "outputs": [],
   "source": [
    "print(\"Results:\", results)\n",
    "print(\"Summary:\", summary)"
   ]
  },
  {
   "cell_type": "markdown",
   "metadata": {},
   "source": [
    "### STD Few Shot"
   ]
  },
  {
   "cell_type": "code",
   "execution_count": null,
   "metadata": {},
   "outputs": [],
   "source": [
    "completion = PromptCompletion(\n",
    "    model_provider=\"openai\",\n",
    "    model=\"gpt-4o\",\n",
    "    system_content=\"\"\"You will act like a question-answering system that answers the given question. Given below is an example of the question-answering task.\n",
    "\n",
    "Question: Would a Monoamine Oxidase candy bar cheer up a depressed friend?\n",
    "Answer: No\n",
    "\n",
    "Question: Would a dog respond to bell before Grey seal?\n",
    "Answer: Yes\n",
    "\n",
    "Question: Is a pound sterling valuable?\n",
    "Answer: No\n",
    "\"\"\",\n",
    "    temperature=0,\n",
    "    top_p=0,\n",
    "    max_tokens=150,\n",
    "    api_key=\"Your-API-Key\"\n",
    ")"
   ]
  },
  {
   "cell_type": "code",
   "execution_count": null,
   "metadata": {},
   "outputs": [],
   "source": [
    "file_path = \"/path/to/prompt/qna_no_context/filename.csv\"\n",
    "formatter = ShotTemplateFormatter(file_path)\n",
    "formatted_data = formatter.format_all_rows(shot_type=\"few\")\n",
    "formatter.save_formatted_data_to_csv(formatted_data, output_filepath=\"gpt_std_few_shot.csv\")\n",
    "print(formatted_data)"
   ]
  },
  {
   "cell_type": "code",
   "execution_count": null,
   "metadata": {},
   "outputs": [],
   "source": [
    "csv_files = \"gpt_std_few_shot.csv\""
   ]
  },
  {
   "cell_type": "code",
   "execution_count": null,
   "metadata": {},
   "outputs": [],
   "source": [
    "import pandas as pd\n",
    "for file_path in csv_files:\n",
    "    #print(f\"Processing file: {file_path} with perturbation: {perturb_type}\")\n",
    "        \n",
    "    # Load the CSV into a DataFrame\n",
    "    df = pd.read_csv(csv_files)\n",
    "    \n",
    "    test_suite = TestSuite()\n",
    "    # Iterate over each row to create a test\n",
    "    for index, row in df.iterrows():\n",
    "            \n",
    "        test = Test(\n",
    "            name=f\"Test fairness #{index + 1}\",\n",
    "            prompt=row[\"original_prompt\"],  # Original prompt\n",
    "            expected_result=row[\"expected_result\"],  # Expected result\n",
    "            description=f\"A test with fairness perturbation\",\n",
    "            test_type=\"fairness\", #Perturbation Type\n",
    "            perturb_text=row[\"perturb_prompt\"],  # Perturbed prompt\n",
    "        )\n",
    "        test_suite.add_test(test)\n",
    "test_suite.run_all(completion)\n",
    "results, summary = test_suite.summarize()\n",
    "\n",
    "test_suite.export_results(\"gpt_std_few_test_results.json\", file_format=\"json\", overwrite=True)\n",
    "\n",
    "test_suite.clear()\n"
   ]
  },
  {
   "cell_type": "code",
   "execution_count": null,
   "metadata": {},
   "outputs": [],
   "source": [
    "print(\"Results:\", results)\n",
    "print(\"Summary:\", summary)"
   ]
  },
  {
   "cell_type": "markdown",
   "metadata": {},
   "source": [
    "# Gemini"
   ]
  },
  {
   "cell_type": "markdown",
   "metadata": {},
   "source": [
    "## Standard"
   ]
  },
  {
   "cell_type": "markdown",
   "metadata": {},
   "source": [
    "### STD Zero Shot"
   ]
  },
  {
   "cell_type": "code",
   "execution_count": null,
   "metadata": {},
   "outputs": [],
   "source": [
    "completion = PromptCompletion(\n",
    "    model_provider=\"gemini\",\n",
    "    model=\"gemini-2.0-flash\",\n",
    "    system_content=\"You will act like a question-answering system that answers the given question.\",\n",
    "    temperature=0,\n",
    "    top_p=0,\n",
    "    max_tokens=150,\n",
    "    api_key=\"Your-API-Key\"\n",
    "  )"
   ]
  },
  {
   "cell_type": "code",
   "execution_count": null,
   "metadata": {},
   "outputs": [],
   "source": [
    "file_path = \"/path/to/prompt/qna_no_context/filename.csv\"\n",
    "formatter = ShotTemplateFormatter(file_path)\n",
    "formatted_data = formatter.format_all_rows(shot_type=\"zero\")\n",
    "formatter.save_formatted_data_to_csv(formatted_data, output_filepath=\"gemini_std_zero_shot.csv\")\n",
    "print(formatted_data)"
   ]
  },
  {
   "cell_type": "code",
   "execution_count": null,
   "metadata": {},
   "outputs": [],
   "source": [
    "csv_files = \"gemini_std_zero_shot.csv\""
   ]
  },
  {
   "cell_type": "code",
   "execution_count": null,
   "metadata": {},
   "outputs": [],
   "source": [
    "import pandas as pd\n",
    "for file_path in csv_files:\n",
    "    #print(f\"Processing file: {file_path} with perturbation: {perturb_type}\")\n",
    "        \n",
    "    # Load the CSV into a DataFrame\n",
    "    df = pd.read_csv(csv_files)\n",
    "    \n",
    "    test_suite = TestSuite()\n",
    "    # Iterate over each row to create a test\n",
    "    for index, row in df.iterrows():\n",
    "            \n",
    "        test = Test(\n",
    "            name=f\"Test fairness #{index + 1}\",\n",
    "            prompt=row[\"original_prompt\"],  # Original prompt\n",
    "            expected_result=row[\"expected_result\"],  # Expected result\n",
    "            description=f\"A test with fairness perturbation\",\n",
    "            test_type=\"fairness\", #Perturbation Type\n",
    "            perturb_text=row[\"perturb_prompt\"],  # Perturbed prompt\n",
    "        )\n",
    "        test_suite.add_test(test)\n",
    "test_suite.run_all(completion)\n",
    "results, summary = test_suite.summarize()\n",
    "\n",
    "test_suite.export_results(\"gemini_std_zero_test_results.json\", file_format=\"json\", overwrite=True)\n",
    "\n",
    "test_suite.clear()\n"
   ]
  },
  {
   "cell_type": "code",
   "execution_count": null,
   "metadata": {},
   "outputs": [],
   "source": [
    "print(\"Results:\", results)\n",
    "print(\"Summary:\", summary)"
   ]
  },
  {
   "cell_type": "markdown",
   "metadata": {},
   "source": [
    "### STD One Shot"
   ]
  },
  {
   "cell_type": "code",
   "execution_count": null,
   "metadata": {},
   "outputs": [],
   "source": [
    "completion = PromptCompletion(\n",
    "    model_provider=\"gemini\",\n",
    "    model=\"gemini-2.0-flash\",\n",
    "    system_content=\"\"\"You will act like a question-answering system that answers the given question. Given below is an example of the question-answering task.\n",
    "\n",
    "Question: Would a Monoamine Oxidase candy bar cheer up a depressed friend?\n",
    "Answer: No\"\"\",\n",
    "    temperature=0,\n",
    "    top_p=0,\n",
    "    max_tokens=150,\n",
    "    api_key=\"Your-API-Key\"\n",
    "  )"
   ]
  },
  {
   "cell_type": "code",
   "execution_count": null,
   "metadata": {},
   "outputs": [],
   "source": [
    "file_path = \"/path/to/prompt/qna_no_context/filename.csv\"\n",
    "formatter = ShotTemplateFormatter(file_path)\n",
    "formatted_data = formatter.format_all_rows(shot_type=\"one\")\n",
    "formatter.save_formatted_data_to_csv(formatted_data, output_filepath=\"gemini_std_one_shot.csv\")\n",
    "print(formatted_data)"
   ]
  },
  {
   "cell_type": "code",
   "execution_count": null,
   "metadata": {},
   "outputs": [],
   "source": [
    "csv_files = \"gemini_std_one_shot.csv\""
   ]
  },
  {
   "cell_type": "code",
   "execution_count": null,
   "metadata": {},
   "outputs": [],
   "source": [
    "import pandas as pd\n",
    "for file_path in csv_files:\n",
    "    #print(f\"Processing file: {file_path} with perturbation: {perturb_type}\")\n",
    "        \n",
    "    # Load the CSV into a DataFrame\n",
    "    df = pd.read_csv(csv_files)\n",
    "    \n",
    "    test_suite = TestSuite()\n",
    "    # Iterate over each row to create a test\n",
    "    for index, row in df.iterrows():\n",
    "            \n",
    "        test = Test(\n",
    "            name=f\"Test fairness #{index + 1}\",\n",
    "            prompt=row[\"original_prompt\"],  # Original prompt\n",
    "            expected_result=row[\"expected_result\"],  # Expected result\n",
    "            description=f\"A test with fairness perturbation\",\n",
    "            test_type=\"fairness\", #Perturbation Type\n",
    "            perturb_text=row[\"perturb_prompt\"],  # Perturbed prompt\n",
    "        )\n",
    "        test_suite.add_test(test)\n",
    "test_suite.run_all(completion)\n",
    "results, summary = test_suite.summarize()\n",
    "\n",
    "test_suite.export_results(\"gemini_std_one_test_results.json\", file_format=\"json\", overwrite=True)\n",
    "\n",
    "test_suite.clear()\n"
   ]
  },
  {
   "cell_type": "code",
   "execution_count": null,
   "metadata": {},
   "outputs": [],
   "source": [
    "print(\"Results:\", results)\n",
    "print(\"Summary:\", summary)"
   ]
  },
  {
   "cell_type": "markdown",
   "metadata": {},
   "source": [
    "### STD Few Shot"
   ]
  },
  {
   "cell_type": "code",
   "execution_count": null,
   "metadata": {},
   "outputs": [],
   "source": [
    "completion = PromptCompletion(\n",
    "    model_provider=\"gemini\",\n",
    "    model=\"gemini-2.0-flash\",\n",
    "    system_content=\"\"\"You will act like a question-answering system that answers the given question. Given below is an example of the question-answering task.\n",
    "\n",
    "Question: Would a Monoamine Oxidase candy bar cheer up a depressed friend?\n",
    "Answer: No\n",
    "\n",
    "Question: Would a dog respond to bell before Grey seal?\n",
    "Answer: Yes\n",
    "\n",
    "Question: Is a pound sterling valuable?\n",
    "Answer: No\"\"\",\n",
    "    temperature=0,\n",
    "    top_p=0,\n",
    "    max_tokens=150,\n",
    "    api_key=\"Your-API-Key\"\n",
    "  )"
   ]
  },
  {
   "cell_type": "code",
   "execution_count": null,
   "metadata": {},
   "outputs": [],
   "source": [
    "file_path = \"/path/to/prompt/qna_no_context/filename.csv\"\n",
    "formatter = ShotTemplateFormatter(file_path)\n",
    "formatted_data = formatter.format_all_rows(shot_type=\"few\")\n",
    "formatter.save_formatted_data_to_csv(formatted_data, output_filepath=\"gemini_std_few_shot.csv\")\n",
    "print(formatted_data)"
   ]
  },
  {
   "cell_type": "code",
   "execution_count": null,
   "metadata": {},
   "outputs": [],
   "source": [
    "csv_files = \"gemini_std_few_shot.csv\""
   ]
  },
  {
   "cell_type": "code",
   "execution_count": null,
   "metadata": {},
   "outputs": [],
   "source": [
    "import pandas as pd\n",
    "for file_path in csv_files:\n",
    "    #print(f\"Processing file: {file_path} with perturbation: {perturb_type}\")\n",
    "        \n",
    "    # Load the CSV into a DataFrame\n",
    "    df = pd.read_csv(csv_files)\n",
    "    \n",
    "    test_suite = TestSuite()\n",
    "    # Iterate over each row to create a test\n",
    "    for index, row in df.iterrows():\n",
    "            \n",
    "        test = Test(\n",
    "            name=f\"Test fairness #{index + 1}\",\n",
    "            prompt=row[\"original_prompt\"],  # Original prompt\n",
    "            expected_result=row[\"expected_result\"],  # Expected result\n",
    "            description=f\"A test with fairness perturbation\",\n",
    "            test_type=\"fairness\", #Perturbation Type\n",
    "            perturb_text=row[\"perturb_prompt\"],  # Perturbed prompt\n",
    "        )\n",
    "        test_suite.add_test(test)\n",
    "test_suite.run_all(completion)\n",
    "results, summary = test_suite.summarize()\n",
    "\n",
    "test_suite.export_results(\"gemini_std_few_test_results.json\", file_format=\"json\", overwrite=True)\n",
    "\n",
    "test_suite.clear()\n"
   ]
  },
  {
   "cell_type": "code",
   "execution_count": null,
   "metadata": {},
   "outputs": [],
   "source": [
    "print(\"Results:\", results)\n",
    "print(\"Summary:\", summary)"
   ]
  }
 ],
 "metadata": {
  "kernelspec": {
   "display_name": "sunghoon",
   "language": "python",
   "name": "python3"
  },
  "language_info": {
   "codemirror_mode": {
    "name": "ipython",
    "version": 3
   },
   "file_extension": ".py",
   "mimetype": "text/x-python",
   "name": "python",
   "nbconvert_exporter": "python",
   "pygments_lexer": "ipython3",
   "version": "3.9.21"
  }
 },
 "nbformat": 4,
 "nbformat_minor": 2
}
