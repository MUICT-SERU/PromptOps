{
 "cells": [
  {
   "cell_type": "code",
   "execution_count": null,
   "metadata": {},
   "outputs": [],
   "source": [
    "import sys\n",
    "import os\n",
    "import json\n",
    "\n",
    "# Get the absolute path of the parent directory\n",
    "# sys.path.append(os.path.abspath(os.path.join(os.getcwd(), '..')))\n",
    "\n",
    "# import modules from PromptOps\n",
    "from PromptOps.std_templates import ShotTemplateFormatter\n",
    "from PromptOps.icqa_templates import ICQATemplateFormatter\n",
    "from PromptOps.cot_templates import COTTemplateFormatter\n",
    "from PromptOps.test import PromptCompletion, Test\n",
    "from PromptOps.test_suite import TestSuite\n",
    "from PromptOps.perturb import Perturbation\n",
    "from PromptOps.cosine_score import cosine_score\n",
    "\n"
   ]
  },
  {
   "cell_type": "code",
   "execution_count": null,
   "metadata": {},
   "outputs": [],
   "source": [
    "# Example usage\n",
    "text1 = \"Positive\"\n",
    "text2 = \"Negative\" \n",
    "\n",
    "similarity = cosine_score(text1, text2)\n",
    "\n",
    "print(f\"Cosine similarity score: {similarity}\")"
   ]
  },
  {
   "cell_type": "code",
   "execution_count": null,
   "metadata": {},
   "outputs": [],
   "source": [
    "import csv\n",
    "import os\n",
    "from datetime import datetime\n",
    "\n",
    "def calculate_response_similarities(results_data, csv_prefix):\n",
    "    \"\"\"\n",
    "    Calculate cosine similarity between response_original and response_perturb for each test\n",
    "    and save results to a CSV file.\n",
    "    \n",
    "    Args:\n",
    "        results_data (list): List of test result dictionaries\n",
    "        csv_prefix (str): Prefix for the CSV filename\n",
    "        \n",
    "    Returns:\n",
    "        dict: Dictionary with test names as keys and their cosine similarity scores as values\n",
    "    \"\"\"\n",
    "    similarity_scores = {}\n",
    "    \n",
    "    # Generate timestamp for unique filename\n",
    "    csv_filename = f\"{csv_prefix}.csv\"\n",
    "    \n",
    "    # Create CSV file and write header\n",
    "    with open(csv_filename, 'w', newline='') as csvfile:\n",
    "        fieldnames = ['test_name', 'response_original', 'response_perturb', 'expected_result', 'similarity']\n",
    "        writer = csv.DictWriter(csvfile, fieldnames=fieldnames)\n",
    "        writer.writeheader()\n",
    "        \n",
    "        # Process each test\n",
    "        for test in results_data:\n",
    "            name = test['name']\n",
    "            response_original = test['response_original']\n",
    "            response_perturb = test['response_perturb']\n",
    "            expected_result = test['expected_result']\n",
    "            \n",
    "            # Calculate cosine similarity\n",
    "            similarity = cosine_score(response_original, response_perturb)\n",
    "            \n",
    "            # Print the result for each test\n",
    "            print(f\"{name}: Original: '{response_original}', Perturbed: '{response_perturb}', Expected: '{expected_result}', Similarity: {similarity:.4f}\")\n",
    "            \n",
    "            # Store in dictionary with test name as key\n",
    "            similarity_scores[name] = similarity\n",
    "            \n",
    "            # Write to CSV\n",
    "            writer.writerow({\n",
    "                'test_name': name,\n",
    "                'response_original': response_original,\n",
    "                'response_perturb': response_perturb,\n",
    "                'expected_result': expected_result,\n",
    "                'similarity': f\"{similarity:.4f}\"\n",
    "            })\n",
    "    \n",
    "    print(f\"Results saved to {csv_filename}\")\n",
    "    return similarity_scores"
   ]
  },
  {
   "cell_type": "markdown",
   "metadata": {},
   "source": [
    "# OpenAI"
   ]
  },
  {
   "cell_type": "markdown",
   "metadata": {
    "notebookRunGroups": {
     "groupValue": "2"
    }
   },
   "source": [
    "## Standard"
   ]
  },
  {
   "cell_type": "markdown",
   "metadata": {},
   "source": [
    "### STD Zero Shot"
   ]
  },
  {
   "cell_type": "code",
   "execution_count": null,
   "metadata": {},
   "outputs": [],
   "source": [
    "completion = PromptCompletion(\n",
    "    model_provider=\"openai\",\n",
    "    model=\"gpt-4o\",\n",
    "    system_content=\"You are an assistant that classifies the sentiment of the message into positive, negative, and neutral.\",\n",
    "    temperature=0,\n",
    "    top_p=0,\n",
    "    max_tokens=150,\n",
    "    api_key=\"Your-API-KEY\"\n",
    ")"
   ]
  },
  {
   "cell_type": "code",
   "execution_count": null,
   "metadata": {},
   "outputs": [],
   "source": [
    "file_path = \"/path/prompts/sentiment/filename.csv\"\n",
    "formatter = ShotTemplateFormatter(file_path)\n",
    "formatted_data = formatter.format_all_rows(shot_type=\"zero\")\n",
    "formatter.save_formatted_data_to_csv(formatted_data, output_filepath=\"gpt_std_zero_shot.csv\")\n",
    "print(formatted_data)"
   ]
  },
  {
   "cell_type": "code",
   "execution_count": null,
   "metadata": {},
   "outputs": [],
   "source": [
    "csv_files = \"gpt_std_zero_shot.csv\""
   ]
  },
  {
   "cell_type": "code",
   "execution_count": null,
   "metadata": {},
   "outputs": [],
   "source": [
    "import pandas as pd\n",
    "for file_path in csv_files:\n",
    "    #print(f\"Processing file: {file_path} with perturbation: {perturb_type}\")\n",
    "        \n",
    "    # Load the CSV into a DataFrame\n",
    "    df = pd.read_csv(csv_files)\n",
    "    \n",
    "    test_suite = TestSuite()\n",
    "    # Iterate over each row to create a test\n",
    "    for index, row in df.iterrows():\n",
    "            \n",
    "        test = Test(\n",
    "            name=f\"Test fairness #{index + 1}\", # Replace with your perturbation type\n",
    "            prompt=row[\"original_prompt\"],  # Original prompt\n",
    "            expected_result=row[\"expected_result\"],  # Expected result\n",
    "            description=f\"A test with fairness perturbation\", # Replace with your perturbation type\n",
    "            test_type=\"fairness\", # Replace with your perturbation type\n",
    "            perturb_text=row[\"perturb_prompt\"],  # Perturbed prompt\n",
    "        )\n",
    "        test_suite.add_test(test)\n",
    "test_suite.run_all(completion)\n",
    "results, summary = test_suite.summarize()\n",
    "\n",
    "test_suite.export_results(\"gpt_std_zero_test_results.json\", file_format=\"json\", overwrite=True)\n",
    "\n",
    "test_suite.clear()\n"
   ]
  },
  {
   "cell_type": "code",
   "execution_count": null,
   "metadata": {},
   "outputs": [],
   "source": [
    "print(\"Results:\", results)\n",
    "print(\"Summary:\", summary)"
   ]
  },
  {
   "cell_type": "markdown",
   "metadata": {},
   "source": [
    "### STD One Shot"
   ]
  },
  {
   "cell_type": "code",
   "execution_count": null,
   "metadata": {},
   "outputs": [],
   "source": [
    "completion = PromptCompletion(\n",
    "    model_provider=\"openai\",\n",
    "    model=\"gpt-4o\",\n",
    "    system_content=\"\"\"\n",
    "You are an assistant that classifies the sentiment of the message into positive, negative, and neutral. Given below is an example of the sentiment analysis task.\n",
    "\n",
    "Sentence: I had a bad experience\n",
    "Sentiment: Negative\n",
    "\"\"\",\n",
    "    temperature=0,\n",
    "    top_p=0,\n",
    "    max_tokens=150,\n",
    "    api_key=\"Your-API-KEY\"\n",
    ")"
   ]
  },
  {
   "cell_type": "code",
   "execution_count": null,
   "metadata": {},
   "outputs": [],
   "source": [
    "file_path = \"/path/prompts/sentiment/filename.csv\"\n",
    "formatter = ShotTemplateFormatter(file_path)\n",
    "formatted_data = formatter.format_all_rows(shot_type=\"one\")\n",
    "formatter.save_formatted_data_to_csv(formatted_data, output_filepath=\"gpt_std_one_shot.csv\")\n",
    "print(formatted_data)"
   ]
  },
  {
   "cell_type": "code",
   "execution_count": null,
   "metadata": {},
   "outputs": [],
   "source": [
    "csv_files = \"gpt_std_one_shot.csv\""
   ]
  },
  {
   "cell_type": "code",
   "execution_count": null,
   "metadata": {},
   "outputs": [],
   "source": [
    "import pandas as pd\n",
    "for file_path in csv_files:\n",
    "    #print(f\"Processing file: {file_path} with perturbation: {perturb_type}\")\n",
    "        \n",
    "    # Load the CSV into a DataFrame\n",
    "    df = pd.read_csv(csv_files)\n",
    "    \n",
    "    test_suite = TestSuite()\n",
    "    # Iterate over each row to create a test\n",
    "    for index, row in df.iterrows():\n",
    "            \n",
    "        test = Test(\n",
    "            name=f\"Test fairness #{index + 1}\", # Replace with your perturbation type\n",
    "            prompt=row[\"original_prompt\"],  # Original prompt\n",
    "            expected_result=row[\"expected_result\"],  # Expected result\n",
    "            description=f\"A test with fairness perturbation\", # Replace with your perturbation type\n",
    "            test_type=\"fairness\", # Replace with your perturbation type\n",
    "            perturb_text=row[\"perturb_prompt\"],  # Perturbed prompt\n",
    "        )\n",
    "        test_suite.add_test(test)\n",
    "test_suite.run_all(completion)\n",
    "results, summary = test_suite.summarize()\n",
    "\n",
    "test_suite.export_results(\"gpt_std_one_test_results.json\", file_format=\"json\", overwrite=True)\n",
    "\n",
    "test_suite.clear()\n"
   ]
  },
  {
   "cell_type": "code",
   "execution_count": null,
   "metadata": {},
   "outputs": [],
   "source": [
    "print(\"Results:\", results)\n",
    "print(\"Summary:\", summary)"
   ]
  },
  {
   "cell_type": "markdown",
   "metadata": {},
   "source": [
    "### STD Few Shot"
   ]
  },
  {
   "cell_type": "code",
   "execution_count": null,
   "metadata": {},
   "outputs": [],
   "source": [
    "completion = PromptCompletion(\n",
    "    model_provider=\"openai\",\n",
    "    model=\"gpt-4o\",\n",
    "    system_content=\"\"\"You are an assistant that classifies the sentiment of the message into positive, negative, and neutral. Given below are a few examples of the sentiment analysis task.\n",
    "\n",
    "Sentence: I had a bad experience\n",
    "Sentiment: Negative\n",
    "\n",
    "Sentence: The food was not bad\n",
    "Sentiment: Neutral\n",
    "\n",
    "Sentence: The movie was impressive.\n",
    "Sentiment: Positive\n",
    "\"\"\",\n",
    "    temperature=0,\n",
    "    top_p=0,\n",
    "    max_tokens=150,\n",
    "    api_key=\"Your-API-KEY\"\n",
    ")"
   ]
  },
  {
   "cell_type": "code",
   "execution_count": null,
   "metadata": {},
   "outputs": [],
   "source": [
    "file_path = \"/path/prompts/sentiment/filename.csv\"\n",
    "formatter = ShotTemplateFormatter(file_path)\n",
    "formatted_data = formatter.format_all_rows(shot_type=\"few\")\n",
    "formatter.save_formatted_data_to_csv(formatted_data, output_filepath=\"gpt_std_few_shot.csv\")\n",
    "print(formatted_data)"
   ]
  },
  {
   "cell_type": "code",
   "execution_count": null,
   "metadata": {},
   "outputs": [],
   "source": [
    "csv_files = \"gpt_std_few_shot.csv\""
   ]
  },
  {
   "cell_type": "code",
   "execution_count": null,
   "metadata": {},
   "outputs": [],
   "source": [
    "import pandas as pd\n",
    "for file_path in csv_files:\n",
    "    #print(f\"Processing file: {file_path} with perturbation: {perturb_type}\")\n",
    "        \n",
    "    # Load the CSV into a DataFrame\n",
    "    df = pd.read_csv(csv_files)\n",
    "    \n",
    "    test_suite = TestSuite()\n",
    "    # Iterate over each row to create a test\n",
    "    for index, row in df.iterrows():\n",
    "            \n",
    "        test = Test(\n",
    "            name=f\"Test fairness #{index + 1}\", # Replace with your perturbation type\n",
    "            prompt=row[\"original_prompt\"],  # Original prompt\n",
    "            expected_result=row[\"expected_result\"],  # Expected result\n",
    "            description=f\"A test with fairness perturbation\", # Replace with your perturbation type\n",
    "            test_type=\"fairness\", # Replace with your perturbation type\n",
    "            perturb_text=row[\"perturb_prompt\"],  # Perturbed prompt\n",
    "        )\n",
    "        test_suite.add_test(test)\n",
    "test_suite.run_all(completion)\n",
    "results, summary = test_suite.summarize()\n",
    "\n",
    "test_suite.export_results(\"gpt_std_few_test_results.json\", file_format=\"json\", overwrite=True)\n",
    "\n",
    "test_suite.clear()\n"
   ]
  },
  {
   "cell_type": "code",
   "execution_count": null,
   "metadata": {},
   "outputs": [],
   "source": [
    "print(\"Results:\", results)\n",
    "print(\"Summary:\", summary)"
   ]
  },
  {
   "cell_type": "markdown",
   "metadata": {},
   "source": [
    "# Gemini"
   ]
  },
  {
   "cell_type": "markdown",
   "metadata": {},
   "source": [
    "## Standard"
   ]
  },
  {
   "cell_type": "markdown",
   "metadata": {},
   "source": [
    "### STD Zero Shot"
   ]
  },
  {
   "cell_type": "code",
   "execution_count": null,
   "metadata": {},
   "outputs": [],
   "source": [
    "completion = PromptCompletion(\n",
    "    model_provider=\"gemini\",\n",
    "    model=\"gemini-2.0-flash\",\n",
    "    system_content=\"You are an assistant that classifies the sentiment of the message into positive, negative, and neutral.\",\n",
    "    temperature=0,\n",
    "    top_p=0,\n",
    "    max_tokens=150,\n",
    "    api_key=\"Your-API-KEY\"\n",
    "  )"
   ]
  },
  {
   "cell_type": "code",
   "execution_count": null,
   "metadata": {},
   "outputs": [],
   "source": [
    "file_path = \"/path/prompts/sentiment/filename.csv\"\n",
    "formatter = ShotTemplateFormatter(file_path)\n",
    "formatted_data = formatter.format_all_rows(shot_type=\"zero\")\n",
    "formatter.save_formatted_data_to_csv(formatted_data, output_filepath=\"gemini_std_zero_shot.csv\")\n",
    "print(formatted_data)"
   ]
  },
  {
   "cell_type": "code",
   "execution_count": null,
   "metadata": {},
   "outputs": [],
   "source": [
    "csv_files = \"gemini_std_zero_shot.csv\""
   ]
  },
  {
   "cell_type": "code",
   "execution_count": null,
   "metadata": {},
   "outputs": [],
   "source": [
    "import pandas as pd\n",
    "for file_path in csv_files:\n",
    "    #print(f\"Processing file: {file_path} with perturbation: {perturb_type}\")\n",
    "        \n",
    "    # Load the CSV into a DataFrame\n",
    "    df = pd.read_csv(csv_files)\n",
    "    \n",
    "    test_suite = TestSuite()\n",
    "    # Iterate over each row to create a test\n",
    "    for index, row in df.iterrows():\n",
    "            \n",
    "        test = Test(\n",
    "            name=f\"Test fairness #{index + 1}\", # Replace with your perturbation type\n",
    "            prompt=row[\"original_prompt\"],  # Original prompt\n",
    "            expected_result=row[\"expected_result\"],  # Expected result\n",
    "            description=f\"A test with fairness perturbation\", # Replace with your perturbation type\n",
    "            test_type=\"fairness\", # Replace with your perturbation type\n",
    "            perturb_text=row[\"perturb_prompt\"],  # Perturbed prompt\n",
    "        )\n",
    "        test_suite.add_test(test)\n",
    "test_suite.run_all(completion)\n",
    "results, summary = test_suite.summarize()\n",
    "\n",
    "test_suite.export_results(\"gemini_std_zero_test_results.json\", file_format=\"json\", overwrite=True)\n",
    "\n",
    "test_suite.clear()\n"
   ]
  },
  {
   "cell_type": "code",
   "execution_count": null,
   "metadata": {},
   "outputs": [],
   "source": [
    "print(\"Results:\", results)\n",
    "print(\"Summary:\", summary)"
   ]
  },
  {
   "cell_type": "markdown",
   "metadata": {},
   "source": [
    "### STD One Shot"
   ]
  },
  {
   "cell_type": "code",
   "execution_count": null,
   "metadata": {},
   "outputs": [],
   "source": [
    "completion = PromptCompletion(\n",
    "    model_provider=\"gemini\",\n",
    "    model=\"gemini-2.0-flash\",\n",
    "    system_content=\"\"\"\n",
    "You are an assistant that classifies the sentiment of the message into positive, negative, and neutral. Given below is an example of the sentiment analysis task.\n",
    "\n",
    "Sentence: I had a bad experience\n",
    "Sentiment: Negative\n",
    "\"\"\",\n",
    "    temperature=0,\n",
    "    top_p=0,\n",
    "    max_tokens=150,\n",
    "    api_key=\"Your-API-KEY\"\n",
    "  )"
   ]
  },
  {
   "cell_type": "code",
   "execution_count": null,
   "metadata": {},
   "outputs": [],
   "source": [
    "file_path = \"/path/prompts/sentiment/filename.csv\"\n",
    "formatter = ShotTemplateFormatter(file_path)\n",
    "formatted_data = formatter.format_all_rows(shot_type=\"one\")\n",
    "formatter.save_formatted_data_to_csv(formatted_data, output_filepath=\"gemini_std_one_shot.csv\")\n",
    "print(formatted_data)"
   ]
  },
  {
   "cell_type": "code",
   "execution_count": null,
   "metadata": {},
   "outputs": [],
   "source": [
    "csv_files = \"gemini_std_one_shot.csv\""
   ]
  },
  {
   "cell_type": "code",
   "execution_count": null,
   "metadata": {},
   "outputs": [],
   "source": [
    "import pandas as pd\n",
    "for file_path in csv_files:\n",
    "    #print(f\"Processing file: {file_path} with perturbation: {perturb_type}\")\n",
    "        \n",
    "    # Load the CSV into a DataFrame\n",
    "    df = pd.read_csv(csv_files)\n",
    "    \n",
    "    test_suite = TestSuite()\n",
    "    # Iterate over each row to create a test\n",
    "    for index, row in df.iterrows():\n",
    "            \n",
    "        test = Test(\n",
    "            name=f\"Test fairness #{index + 1}\", # Replace with your perturbation type\n",
    "            prompt=row[\"original_prompt\"],  # Original prompt\n",
    "            expected_result=row[\"expected_result\"],  # Expected result\n",
    "            description=f\"A test with fairness perturbation\", # Replace with your perturbation type\n",
    "            test_type=\"fairness\", # Replace with your perturbation type\n",
    "            perturb_text=row[\"perturb_prompt\"],  # Perturbed prompt\n",
    "        )\n",
    "        test_suite.add_test(test)\n",
    "test_suite.run_all(completion)\n",
    "results, summary = test_suite.summarize()\n",
    "\n",
    "test_suite.export_results(\"gemini_std_one_test_results.json\", file_format=\"json\", overwrite=True)\n",
    "\n",
    "test_suite.clear()\n"
   ]
  },
  {
   "cell_type": "code",
   "execution_count": null,
   "metadata": {},
   "outputs": [],
   "source": [
    "print(\"Results:\", results)\n",
    "print(\"Summary:\", summary)"
   ]
  },
  {
   "cell_type": "markdown",
   "metadata": {},
   "source": [
    "### STD Few Shot"
   ]
  },
  {
   "cell_type": "code",
   "execution_count": null,
   "metadata": {},
   "outputs": [],
   "source": [
    "completion = PromptCompletion(\n",
    "    model_provider=\"gemini\",\n",
    "    model=\"gemini-2.0-flash\",\n",
    "    system_content=\"\"\"You are an assistant that classifies the sentiment of the message into positive, negative, and neutral. Given below are a few examples of the sentiment analysis task.\n",
    "\n",
    "Sentence: I had a bad experience\n",
    "Sentiment: Negative\n",
    "\n",
    "Sentence: The food was not bad\n",
    "Sentiment: Neutral\n",
    "\n",
    "Sentence: The movie was impressive.\n",
    "Sentiment: Positive\n",
    "\"\"\",\n",
    "    temperature=0,\n",
    "    top_p=0,\n",
    "    max_tokens=150,\n",
    "    api_key=\"/path/prompts/sentiment/filename.csv\"\n",
    "  )"
   ]
  },
  {
   "cell_type": "code",
   "execution_count": null,
   "metadata": {},
   "outputs": [],
   "source": [
    "file_path = \"/path/prompts/sentiment/filename.csv\"\n",
    "formatter = ShotTemplateFormatter(file_path)\n",
    "formatted_data = formatter.format_all_rows(shot_type=\"few\")\n",
    "formatter.save_formatted_data_to_csv(formatted_data, output_filepath=\"gemini_std_few_shot.csv\")\n",
    "print(formatted_data)"
   ]
  },
  {
   "cell_type": "code",
   "execution_count": null,
   "metadata": {},
   "outputs": [],
   "source": [
    "csv_files = \"gemini_std_few_shot.csv\""
   ]
  },
  {
   "cell_type": "code",
   "execution_count": null,
   "metadata": {},
   "outputs": [],
   "source": [
    "import pandas as pd\n",
    "for file_path in csv_files:\n",
    "    #print(f\"Processing file: {file_path} with perturbation: {perturb_type}\")\n",
    "        \n",
    "    # Load the CSV into a DataFrame\n",
    "    df = pd.read_csv(csv_files)\n",
    "    \n",
    "    test_suite = TestSuite()\n",
    "    # Iterate over each row to create a test\n",
    "    for index, row in df.iterrows():\n",
    "            \n",
    "        test = Test(\n",
    "            name=f\"Test fairness #{index + 1}\", # Replace with your perturbation type\n",
    "            prompt=row[\"original_prompt\"],  # Original prompt\n",
    "            expected_result=row[\"expected_result\"],  # Expected result\n",
    "            description=f\"A test with fairness perturbation\", # Replace with your perturbation type\n",
    "            test_type=\"fairness\", # Replace with your perturbation type\n",
    "            perturb_text=row[\"perturb_prompt\"],  # Perturbed prompt\n",
    "        )\n",
    "        test_suite.add_test(test)\n",
    "test_suite.run_all(completion)\n",
    "results, summary = test_suite.summarize()\n",
    "\n",
    "test_suite.export_results(\"gemini_std_few_test_results.json\", file_format=\"json\", overwrite=True)\n",
    "\n",
    "test_suite.clear()\n"
   ]
  },
  {
   "cell_type": "code",
   "execution_count": null,
   "metadata": {},
   "outputs": [],
   "source": [
    "print(\"Results:\", results)\n",
    "print(\"Summary:\", summary)"
   ]
  },
  {
   "cell_type": "code",
   "execution_count": null,
   "metadata": {},
   "outputs": [],
   "source": []
  }
 ],
 "metadata": {
  "kernelspec": {
   "display_name": "sunghoon",
   "language": "python",
   "name": "python3"
  },
  "language_info": {
   "codemirror_mode": {
    "name": "ipython",
    "version": 3
   },
   "file_extension": ".py",
   "mimetype": "text/x-python",
   "name": "python",
   "nbconvert_exporter": "python",
   "pygments_lexer": "ipython3",
   "version": "3.9.21"
  }
 },
 "nbformat": 4,
 "nbformat_minor": 2
}
